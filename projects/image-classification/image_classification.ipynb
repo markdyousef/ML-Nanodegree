{
 "cells": [
  {
   "cell_type": "markdown",
   "metadata": {
    "collapsed": true,
    "deletable": true,
    "editable": true
   },
   "source": [
    "# Image Classification\n",
    "In this project, you'll classify images from the [CIFAR-10 dataset](https://www.cs.toronto.edu/~kriz/cifar.html).  The dataset consists of airplanes, dogs, cats, and other objects. You'll preprocess the images, then train a convolutional neural network on all the samples. The images need to be normalized and the labels need to be one-hot encoded.  You'll get to apply what you learned and build a convolutional, max pooling, dropout, and fully connected layers.  At the end, you'll get to see your neural network's predictions on the sample images.\n",
    "## Get the Data\n",
    "Run the following cell to download the [CIFAR-10 dataset for python](https://www.cs.toronto.edu/~kriz/cifar-10-python.tar.gz)."
   ]
  },
  {
   "cell_type": "code",
   "execution_count": 1,
   "metadata": {
    "collapsed": false,
    "deletable": true,
    "editable": true
   },
   "outputs": [
    {
     "name": "stdout",
     "output_type": "stream",
     "text": [
      "All files found!\n"
     ]
    }
   ],
   "source": [
    "\"\"\"\n",
    "DON'T MODIFY ANYTHING IN THIS CELL THAT IS BELOW THIS LINE\n",
    "\"\"\"\n",
    "from urllib.request import urlretrieve\n",
    "from os.path import isfile, isdir\n",
    "from tqdm import tqdm\n",
    "import problem_unittests as tests\n",
    "import tarfile\n",
    "\n",
    "cifar10_dataset_folder_path = 'cifar-10-batches-py'\n",
    "\n",
    "class DLProgress(tqdm):\n",
    "    last_block = 0\n",
    "\n",
    "    def hook(self, block_num=1, block_size=1, total_size=None):\n",
    "        self.total = total_size\n",
    "        self.update((block_num - self.last_block) * block_size)\n",
    "        self.last_block = block_num\n",
    "\n",
    "if not isfile('cifar-10-python.tar.gz'):\n",
    "    with DLProgress(unit='B', unit_scale=True, miniters=1, desc='CIFAR-10 Dataset') as pbar:\n",
    "        urlretrieve(\n",
    "            'https://www.cs.toronto.edu/~kriz/cifar-10-python.tar.gz',\n",
    "            'cifar-10-python.tar.gz',\n",
    "            pbar.hook)\n",
    "\n",
    "if not isdir(cifar10_dataset_folder_path):\n",
    "    with tarfile.open('cifar-10-python.tar.gz') as tar:\n",
    "        tar.extractall()\n",
    "        tar.close()\n",
    "\n",
    "\n",
    "tests.test_folder_path(cifar10_dataset_folder_path)"
   ]
  },
  {
   "cell_type": "markdown",
   "metadata": {
    "deletable": true,
    "editable": true
   },
   "source": [
    "## Explore the Data\n",
    "The dataset is broken into batches to prevent your machine from running out of memory.  The CIFAR-10 dataset consists of 5 batches, named `data_batch_1`, `data_batch_2`, etc.. Each batch contains the labels and images that are one of the following:\n",
    "* airplane\n",
    "* automobile\n",
    "* bird\n",
    "* cat\n",
    "* deer\n",
    "* dog\n",
    "* frog\n",
    "* horse\n",
    "* ship\n",
    "* truck\n",
    "\n",
    "Understanding a dataset is part of making predictions on the data.  Play around with the code cell below by changing the `batch_id` and `sample_id`. The `batch_id` is the id for a batch (1-5). The `sample_id` is the id for a image and label pair in the batch.\n",
    "\n",
    "Ask yourself \"What are all possible labels?\", \"What is the range of values for the image data?\", \"Are the labels in order or random?\".  Answers to questions like these will help you preprocess the data and end up with better predictions."
   ]
  },
  {
   "cell_type": "code",
   "execution_count": 2,
   "metadata": {
    "collapsed": false,
    "deletable": true,
    "editable": true
   },
   "outputs": [
    {
     "name": "stdout",
     "output_type": "stream",
     "text": [
      "\n",
      "Stats of batch 1:\n",
      "Samples: 10000\n",
      "Label Counts: {0: 1005, 1: 974, 2: 1032, 3: 1016, 4: 999, 5: 937, 6: 1030, 7: 1001, 8: 1025, 9: 981}\n",
      "First 20 Labels: [6, 9, 9, 4, 1, 1, 2, 7, 8, 3, 4, 7, 7, 2, 9, 9, 9, 3, 2, 6]\n",
      "\n",
      "Example of Image 5:\n",
      "Image - Min Value: 0 Max Value: 252\n",
      "Image - Shape: (32, 32, 3)\n",
      "Label - Label Id: 1 Name: automobile\n"
     ]
    },
    {
     "data": {
      "image/png": "[encoded data removed]",
      "text/plain": [
       "<matplotlib.figure.Figure at 0x1140b55c0>"
      ]
     },
     "metadata": {
      "image/png": {
       "height": 250,
       "width": 253
      }
     },
     "output_type": "display_data"
    }
   ],
   "source": [
    "%matplotlib inline\n",
    "%config InlineBackend.figure_format = 'retina'\n",
    "\n",
    "import helper\n",
    "import numpy as np\n",
    "\n",
    "# Explore the dataset\n",
    "batch_id = 1\n",
    "sample_id = 5\n",
    "helper.display_stats(cifar10_dataset_folder_path, batch_id, sample_id)"
   ]
  },
  {
   "cell_type": "markdown",
   "metadata": {
    "deletable": true,
    "editable": true
   },
   "source": [
    "## Implement Preprocess Functions\n",
    "### Normalize\n",
    "In the cell below, implement the `normalize` function to take in image data, `x`, and return it as a normalized Numpy array. The values should be in the range of 0 to 1, inclusive.  The return object should be the same shape as `x`."
   ]
  },
  {
   "cell_type": "code",
   "execution_count": 3,
   "metadata": {
    "collapsed": false,
    "deletable": true,
    "editable": true
   },
   "outputs": [
    {
     "name": "stdout",
     "output_type": "stream",
     "text": [
      "Tests Passed\n"
     ]
    }
   ],
   "source": [
    "def normalize(x):\n",
    "    \"\"\"\n",
    "    Normalize a list of sample image data in the range of 0 to 1\n",
    "    : x: List of image data.  The image shape is (32, 32, 3)\n",
    "    : return: Numpy array of normalize data\n",
    "    \"\"\"\n",
    "    # TODO: Implement Function\n",
    "    import numpy as np\n",
    "    \n",
    "    normalized = (x - np.min(x)) / (np.max(x) - np.min(x))\n",
    "    \n",
    "    return normalized\n",
    "\n",
    "\n",
    "\"\"\"\n",
    "DON'T MODIFY ANYTHING IN THIS CELL THAT IS BELOW THIS LINE\n",
    "\"\"\"\n",
    "tests.test_normalize(normalize)"
   ]
  },
  {
   "cell_type": "markdown",
   "metadata": {
    "deletable": true,
    "editable": true
   },
   "source": [
    "### One-hot encode\n",
    "Just like the previous code cell, you'll be implementing a function for preprocessing.  This time, you'll implement the `one_hot_encode` function. The input, `x`, are a list of labels.  Implement the function to return the list of labels as One-Hot encoded Numpy array.  The possible values for labels are 0 to 9. The one-hot encoding function should return the same encoding for each value between each call to `one_hot_encode`.  Make sure to save the map of encodings outside the function.\n",
    "\n",
    "**Hint:**\n",
    "\n",
    "Look into LabelBinarizer in the preprocessing module of sklearn."
   ]
  },
  {
   "cell_type": "code",
   "execution_count": 4,
   "metadata": {
    "collapsed": false,
    "deletable": true,
    "editable": true
   },
   "outputs": [
    {
     "name": "stdout",
     "output_type": "stream",
     "text": [
      "Tests Passed\n"
     ]
    }
   ],
   "source": [
    "from sklearn import preprocessing\n",
    "encodings = list(range(0,10))\n",
    "def one_hot_encode(x):\n",
    "    \"\"\"\n",
    "    One hot encode a list of sample labels. Return a one-hot encoded vector for each label.\n",
    "    : x: List of sample Labels\n",
    "    : return: Numpy array of one-hot encoded labels\n",
    "    \"\"\"\n",
    "    # TODO: Implement Function\n",
    "    lb = preprocessing.LabelBinarizer()\n",
    "    lb.fit(encodings)\n",
    "    val = lb.transform(x)\n",
    "    return val\n",
    "\n",
    "\n",
    "\"\"\"\n",
    "DON'T MODIFY ANYTHING IN THIS CELL THAT IS BELOW THIS LINE\n",
    "\"\"\"\n",
    "tests.test_one_hot_encode(one_hot_encode)"
   ]
  },
  {
   "cell_type": "markdown",
   "metadata": {
    "deletable": true,
    "editable": true
   },
   "source": [
    "### Randomize Data\n",
    "As you saw from exploring the data above, the order of the samples are randomized.  It doesn't hurt to randomize it again, but you don't need to for this dataset."
   ]
  },
  {
   "cell_type": "markdown",
   "metadata": {
    "deletable": true,
    "editable": true
   },
   "source": [
    "## Preprocess all the data and save it\n",
    "Running the code cell below will preprocess all the CIFAR-10 data and save it to file. The code below also uses 10% of the training data for validation."
   ]
  },
  {
   "cell_type": "code",
   "execution_count": 5,
   "metadata": {
    "collapsed": false,
    "deletable": true,
    "editable": true
   },
   "outputs": [],
   "source": [
    "\"\"\"\n",
    "DON'T MODIFY ANYTHING IN THIS CELL\n",
    "\"\"\"\n",
    "# Preprocess Training, Validation, and Testing Data\n",
    "helper.preprocess_and_save_data(cifar10_dataset_folder_path, normalize, one_hot_encode)"
   ]
  },
  {
   "cell_type": "markdown",
   "metadata": {
    "deletable": true,
    "editable": true
   },
   "source": [
    "# Check Point\n",
    "This is your first checkpoint.  If you ever decide to come back to this notebook or have to restart the notebook, you can start from here.  The preprocessed data has been saved to disk."
   ]
  },
  {
   "cell_type": "code",
   "execution_count": 6,
   "metadata": {
    "collapsed": true,
    "deletable": true,
    "editable": true
   },
   "outputs": [],
   "source": [
    "\"\"\"\n",
    "DON'T MODIFY ANYTHING IN THIS CELL\n",
    "\"\"\"\n",
    "import pickle\n",
    "import problem_unittests as tests\n",
    "import helper\n",
    "\n",
    "# Load the Preprocessed Validation data\n",
    "valid_features, valid_labels = pickle.load(open('preprocess_validation.p', mode='rb'))"
   ]
  },
  {
   "cell_type": "markdown",
   "metadata": {
    "deletable": true,
    "editable": true
   },
   "source": [
    "## Build the network\n",
    "For the neural network, you'll build each layer into a function.  Most of the code you've seen has been outside of functions. To test your code more thoroughly, we require that you put each layer in a function.  This allows us to give you better feedback and test for simple mistakes using our unittests before you submit your project.\n",
    "\n",
    ">**Note:** If you're finding it hard to dedicate enough time for this course each week, we've provided a small shortcut to this part of the project. In the next couple of problems, you'll have the option to use classes from the [TensorFlow Layers](https://www.tensorflow.org/api_docs/python/tf/layers) or [TensorFlow Layers (contrib)](https://www.tensorflow.org/api_guides/python/contrib.layers) packages to build each layer, except the layers you build in the \"Convolutional and Max Pooling Layer\" section.  TF Layers is similar to Keras's and TFLearn's abstraction to layers, so it's easy to pickup.\n",
    "\n",
    ">However, if you would like to get the most out of this course, try to solve all the problems _without_ using anything from the TF Layers packages. You **can** still use classes from other packages that happen to have the same name as ones you find in TF Layers! For example, instead of using the TF Layers version of the `conv2d` class, [tf.layers.conv2d](https://www.tensorflow.org/api_docs/python/tf/layers/conv2d), you would want to use the TF Neural Network version of `conv2d`, [tf.nn.conv2d](https://www.tensorflow.org/api_docs/python/tf/nn/conv2d). \n",
    "\n",
    "Let's begin!\n",
    "\n",
    "### Input\n",
    "The neural network needs to read the image data, one-hot encoded labels, and dropout keep probability. Implement the following functions\n",
    "* Implement `neural_net_image_input`\n",
    " * Return a [TF Placeholder](https://www.tensorflow.org/api_docs/python/tf/placeholder)\n",
    " * Set the shape using `image_shape` with batch size set to `None`.\n",
    " * Name the TensorFlow placeholder \"x\" using the TensorFlow `name` parameter in the [TF Placeholder](https://www.tensorflow.org/api_docs/python/tf/placeholder).\n",
    "* Implement `neural_net_label_input`\n",
    " * Return a [TF Placeholder](https://www.tensorflow.org/api_docs/python/tf/placeholder)\n",
    " * Set the shape using `n_classes` with batch size set to `None`.\n",
    " * Name the TensorFlow placeholder \"y\" using the TensorFlow `name` parameter in the [TF Placeholder](https://www.tensorflow.org/api_docs/python/tf/placeholder).\n",
    "* Implement `neural_net_keep_prob_input`\n",
    " * Return a [TF Placeholder](https://www.tensorflow.org/api_docs/python/tf/placeholder) for dropout keep probability.\n",
    " * Name the TensorFlow placeholder \"keep_prob\" using the TensorFlow `name` parameter in the [TF Placeholder](https://www.tensorflow.org/api_docs/python/tf/placeholder).\n",
    "\n",
    "These names will be used at the end of the project to load your saved model.\n",
    "\n",
    "Note: `None` for shapes in TensorFlow allow for a dynamic size."
   ]
  },
  {
   "cell_type": "code",
   "execution_count": 7,
   "metadata": {
    "collapsed": false,
    "deletable": true,
    "editable": true
   },
   "outputs": [
    {
     "name": "stdout",
     "output_type": "stream",
     "text": [
      "Image Input Tests Passed.\n",
      "Label Input Tests Passed.\n",
      "Keep Prob Tests Passed.\n"
     ]
    }
   ],
   "source": [
    "import tensorflow as tf\n",
    "\n",
    "def neural_net_image_input(image_shape):\n",
    "    \"\"\"\n",
    "    Return a Tensor for a batch of image input\n",
    "    : image_shape: Shape of the images\n",
    "    : return: Tensor for image input.\n",
    "    \"\"\"\n",
    "    # TODO: Implement Function\n",
    "    shape = list(image_shape)\n",
    "    shape.insert(0, None)\n",
    "    return tf.placeholder(tf.float32, shape=shape, name=\"x\")\n",
    "\n",
    "\n",
    "def neural_net_label_input(n_classes):\n",
    "    \"\"\"\n",
    "    Return a Tensor for a batch of label input\n",
    "    : n_classes: Number of classes\n",
    "    : return: Tensor for label input.\n",
    "    \"\"\"\n",
    "    # TODO: Implement Function\n",
    "    return tf.placeholder(tf.float32, shape=[None, n_classes], name=\"y\")\n",
    "\n",
    "\n",
    "def neural_net_keep_prob_input():\n",
    "    \"\"\"\n",
    "    Return a Tensor for keep probability\n",
    "    : return: Tensor for keep probability.\n",
    "    \"\"\"\n",
    "    # TODO: Implement Function\n",
    "    return tf.placeholder(tf.float32, shape=None, name=\"keep_prob\")\n",
    "\n",
    "\n",
    "\"\"\"\n",
    "DON'T MODIFY ANYTHING IN THIS CELL THAT IS BELOW THIS LINE\n",
    "\"\"\"\n",
    "tf.reset_default_graph()\n",
    "tests.test_nn_image_inputs(neural_net_image_input)\n",
    "tests.test_nn_label_inputs(neural_net_label_input)\n",
    "tests.test_nn_keep_prob_inputs(neural_net_keep_prob_input)"
   ]
  },
  {
   "cell_type": "markdown",
   "metadata": {
    "deletable": true,
    "editable": true
   },
   "source": [
    "### Convolution and Max Pooling Layer\n",
    "Convolution layers have a lot of success with images. For this code cell, you should implement the function `conv2d_maxpool` to apply convolution then max pooling:\n",
    "* Create the weight and bias using `conv_ksize`, `conv_num_outputs` and the shape of `x_tensor`.\n",
    "* Apply a convolution to `x_tensor` using weight and `conv_strides`.\n",
    " * We recommend you use same padding, but you're welcome to use any padding.\n",
    "* Add bias\n",
    "* Add a nonlinear activation to the convolution.\n",
    "* Apply Max Pooling using `pool_ksize` and `pool_strides`.\n",
    " * We recommend you use same padding, but you're welcome to use any padding.\n",
    "\n",
    "**Note:** You **can't** use [TensorFlow Layers](https://www.tensorflow.org/api_docs/python/tf/layers) or [TensorFlow Layers (contrib)](https://www.tensorflow.org/api_guides/python/contrib.layers) for **this** layer, but you can still use TensorFlow's [Neural Network](https://www.tensorflow.org/api_docs/python/tf/nn) package. You may still use the shortcut option for all the **other** layers.\n",
    "\n",
    "** Hint: **\n",
    "\n",
    "When unpacking values as an argument in Python, look into the [unpacking](https://docs.python.org/3/tutorial/controlflow.html#unpacking-argument-lists) operator. "
   ]
  },
  {
   "cell_type": "code",
   "execution_count": 11,
   "metadata": {
    "collapsed": false,
    "deletable": true,
    "editable": true
   },
   "outputs": [
    {
     "name": "stdout",
     "output_type": "stream",
     "text": [
      "Tests Passed\n"
     ]
    }
   ],
   "source": [
    "def conv2d_maxpool(x_tensor, conv_num_outputs, conv_ksize, conv_strides, pool_ksize, pool_strides):\n",
    "    \"\"\"\n",
    "    Apply convolution then max pooling to x_tensor\n",
    "    :param x_tensor: TensorFlow Tensor\n",
    "    :param conv_num_outputs: Number of outputs for the convolutional layer\n",
    "    :param conv_ksize: kernal size 2-D Tuple for the convolutional layer\n",
    "    :param conv_strides: Stride 2-D Tuple for convolution\n",
    "    :param pool_ksize: kernal size 2-D Tuple for pool\n",
    "    :param pool_strides: Stride 2-D Tuple for pool\n",
    "    : return: A tensor that represents convolution and max pooling of x_tensor\n",
    "    \"\"\"\n",
    "    # TODO: Implement Function\n",
    "    input_shape = x_tensor.shape\n",
    "    k_height = conv_ksize[0]\n",
    "    k_width = conv_ksize[1]\n",
    "    input_dim = int(input_shape[3])\n",
    "    output_dim = conv_num_outputs\n",
    "    # create weight and bias\n",
    "    W = tf.Variable(\n",
    "        tf.random_normal([k_height, k_width, input_dim, output_dim]),\n",
    "        name=\"Weight\"\n",
    "    )\n",
    "    b = tf.Variable(tf.zeros(output_dim), name=\"bias\")\n",
    "    \n",
    "    # apply convolution using weight and conv_strides\n",
    "    s_height = conv_strides[0]\n",
    "    s_width = conv_strides[1]\n",
    "    strides = [1, s_height, s_width, 1]\n",
    "    x = tf.nn.conv2d(x_tensor, W, strides, 'SAME')\n",
    "    \n",
    "    #add bias\n",
    "    x = x + b\n",
    "    \n",
    "    #add a non-linear activation\n",
    "    x = tf.nn.relu(x)\n",
    "    \n",
    "    #apply Max Pooling\n",
    "    k_height = pool_ksize[0]\n",
    "    k_width = pool_ksize[1]\n",
    "    s_height = pool_strides[0]\n",
    "    s_width = pool_strides[1]\n",
    "    k_size = [1, k_height, k_width, 1]\n",
    "    strides = [1, s_height, s_width, 1]\n",
    "    \n",
    "    return tf.nn.max_pool(x, k_size, strides, 'SAME') \n",
    "\n",
    "\n",
    "\"\"\"\n",
    "DON'T MODIFY ANYTHING IN THIS CELL THAT IS BELOW THIS LINE\n",
    "\"\"\"\n",
    "tests.test_con_pool(conv2d_maxpool)"
   ]
  },
  {
   "cell_type": "markdown",
   "metadata": {
    "deletable": true,
    "editable": true
   },
   "source": [
    "### Flatten Layer\n",
    "Implement the `flatten` function to change the dimension of `x_tensor` from a 4-D tensor to a 2-D tensor.  The output should be the shape (*Batch Size*, *Flattened Image Size*). Shortcut option: you can use classes from the [TensorFlow Layers](https://www.tensorflow.org/api_docs/python/tf/layers) or [TensorFlow Layers (contrib)](https://www.tensorflow.org/api_guides/python/contrib.layers) packages for this layer. For more of a challenge, only use other TensorFlow packages."
   ]
  },
  {
   "cell_type": "code",
   "execution_count": 12,
   "metadata": {
    "collapsed": false,
    "deletable": true,
    "editable": true
   },
   "outputs": [
    {
     "name": "stdout",
     "output_type": "stream",
     "text": [
      "Tests Passed\n"
     ]
    }
   ],
   "source": [
    "def flatten(x_tensor):\n",
    "    \"\"\"\n",
    "    Flatten x_tensor to (Batch Size, Flattened Image Size)\n",
    "    : x_tensor: A tensor of size (Batch Size, ...), where ... are the image dimensions.\n",
    "    : return: A tensor of size (Batch Size, Flattened Image Size).\n",
    "    \"\"\"\n",
    "    # TODO: Implement Function\n",
    "    return tf.contrib.layers.flatten(x_tensor)\n",
    "\n",
    "\n",
    "\"\"\"\n",
    "DON'T MODIFY ANYTHING IN THIS CELL THAT IS BELOW THIS LINE\n",
    "\"\"\"\n",
    "tests.test_flatten(flatten)"
   ]
  },
  {
   "cell_type": "markdown",
   "metadata": {
    "deletable": true,
    "editable": true
   },
   "source": [
    "### Fully-Connected Layer\n",
    "Implement the `fully_conn` function to apply a fully connected layer to `x_tensor` with the shape (*Batch Size*, *num_outputs*). Shortcut option: you can use classes from the [TensorFlow Layers](https://www.tensorflow.org/api_docs/python/tf/layers) or [TensorFlow Layers (contrib)](https://www.tensorflow.org/api_guides/python/contrib.layers) packages for this layer. For more of a challenge, only use other TensorFlow packages."
   ]
  },
  {
   "cell_type": "code",
   "execution_count": 21,
   "metadata": {
    "collapsed": false,
    "deletable": true,
    "editable": true
   },
   "outputs": [
    {
     "name": "stdout",
     "output_type": "stream",
     "text": [
      "Tests Passed\n"
     ]
    }
   ],
   "source": [
    "def fully_conn(x_tensor, num_outputs):\n",
    "    \"\"\"\n",
    "    Apply a fully connected layer to x_tensor using weight and bias\n",
    "    : x_tensor: A 2-D tensor where the first dimension is batch size.\n",
    "    : num_outputs: The number of output that the new tensor should be.\n",
    "    : return: A 2-D tensor where the second dimension is num_outputs.\n",
    "    \"\"\"\n",
    "    # TODO: Implement Function\n",
    "    return tf.contrib.layers.fully_connected(x_tensor, num_outputs, activation_fn=tf.nn.relu)\n",
    "\n",
    "\n",
    "\"\"\"\n",
    "DON'T MODIFY ANYTHING IN THIS CELL THAT IS BELOW THIS LINE\n",
    "\"\"\"\n",
    "tests.test_fully_conn(fully_conn)"
   ]
  },
  {
   "cell_type": "markdown",
   "metadata": {
    "deletable": true,
    "editable": true
   },
   "source": [
    "### Output Layer\n",
    "Implement the `output` function to apply a fully connected layer to `x_tensor` with the shape (*Batch Size*, *num_outputs*). Shortcut option: you can use classes from the [TensorFlow Layers](https://www.tensorflow.org/api_docs/python/tf/layers) or [TensorFlow Layers (contrib)](https://www.tensorflow.org/api_guides/python/contrib.layers) packages for this layer. For more of a challenge, only use other TensorFlow packages.\n",
    "\n",
    "**Note:** Activation, softmax, or cross entropy should **not** be applied to this."
   ]
  },
  {
   "cell_type": "code",
   "execution_count": 22,
   "metadata": {
    "collapsed": false,
    "deletable": true,
    "editable": true
   },
   "outputs": [
    {
     "name": "stdout",
     "output_type": "stream",
     "text": [
      "Tests Passed\n"
     ]
    }
   ],
   "source": [
    "def output(x_tensor, num_outputs):\n",
    "    \"\"\"\n",
    "    Apply a output layer to x_tensor using weight and bias\n",
    "    : x_tensor: A 2-D tensor where the first dimension is batch size.\n",
    "    : num_outputs: The number of output that the new tensor should be.\n",
    "    : return: A 2-D tensor where the second dimension is num_outputs.\n",
    "    \"\"\"\n",
    "    # TODO: Implement Function\n",
    "    return tf.contrib.layers.fully_connected(x_tensor, num_outputs, activation_fn=None)\n",
    "\n",
    "\n",
    "\"\"\"\n",
    "DON'T MODIFY ANYTHING IN THIS CELL THAT IS BELOW THIS LINE\n",
    "\"\"\"\n",
    "tests.test_output(output)"
   ]
  },
  {
   "cell_type": "markdown",
   "metadata": {
    "deletable": true,
    "editable": true
   },
   "source": [
    "### Create Convolutional Model\n",
    "Implement the function `conv_net` to create a convolutional neural network model. The function takes in a batch of images, `x`, and outputs logits.  Use the layers you created above to create this model:\n",
    "\n",
    "* Apply 1, 2, or 3 Convolution and Max Pool layers\n",
    "* Apply a Flatten Layer\n",
    "* Apply 1, 2, or 3 Fully Connected Layers\n",
    "* Apply an Output Layer\n",
    "* Return the output\n",
    "* Apply [TensorFlow's Dropout](https://www.tensorflow.org/api_docs/python/tf/nn/dropout) to one or more layers in the model using `keep_prob`. "
   ]
  },
  {
   "cell_type": "code",
   "execution_count": 23,
   "metadata": {
    "collapsed": false,
    "deletable": true,
    "editable": true
   },
   "outputs": [
    {
     "name": "stdout",
     "output_type": "stream",
     "text": [
      "Neural Network Built!\n"
     ]
    }
   ],
   "source": [
    "def conv_net(x, keep_prob):\n",
    "    \"\"\"\n",
    "    Create a convolutional neural network model\n",
    "    : x: Placeholder tensor that holds image data.\n",
    "    : keep_prob: Placeholder tensor that hold dropout keep probability.\n",
    "    : return: Tensor that represents logits\n",
    "    \"\"\"\n",
    "    # TODO: Apply 1, 2, or 3 Convolution and Max Pool layers\n",
    "    #    Play around with different number of outputs, kernel size and stride\n",
    "    # Function Definition from Above:\n",
    "    #    conv2d_maxpool(x_tensor, conv_num_outputs, conv_ksize, conv_strides, pool_ksize, pool_strides)\n",
    "    conv_ksize = (3, 3)\n",
    "    conv_strides = (1, 1)\n",
    "    pool_ksize = (2, 2)\n",
    "    pool_strides = (2, 2)\n",
    "    \n",
    "    x = conv2d_maxpool(\n",
    "        x, 10, conv_ksize, conv_strides, pool_ksize, pool_strides)\n",
    "    # dropout\n",
    "    x = tf.nn.dropout(x, keep_prob)\n",
    "    x = conv2d_maxpool(\n",
    "        x, 10, conv_ksize, conv_strides, pool_ksize, pool_strides)\n",
    "    # dropout\n",
    "    x = tf.nn.dropout(x, keep_prob)\n",
    "    x = conv2d_maxpool(\n",
    "        x, 10, conv_ksize, conv_strides, pool_ksize, pool_strides)\n",
    "    \n",
    "    \n",
    "\n",
    "    # TODO: Apply a Flatten Layer\n",
    "    # Function Definition from Above:\n",
    "    #   flatten(x_tensor)\n",
    "    x = flatten(x)\n",
    "    \n",
    "\n",
    "    # TODO: Apply 1, 2, or 3 Fully Connected Layers\n",
    "    #    Play around with different number of outputs\n",
    "    # Function Definition from Above:\n",
    "    #   fully_conn(x_tensor, num_outputs)\n",
    "    x = fully_conn(x, 40)\n",
    "    x = fully_conn(x, 40)\n",
    "    x = fully_conn(x, 40)\n",
    "    \n",
    "    \n",
    "    # TODO: Apply an Output Layer\n",
    "    #    Set this to the number of classes\n",
    "    # Function Definition from Above:\n",
    "    #   output(x_tensor, num_outputs)\n",
    "    x = output(x, 10)\n",
    "    \n",
    "    \n",
    "    # TODO: return output\n",
    "    return x\n",
    "\n",
    "\n",
    "\"\"\"\n",
    "DON'T MODIFY ANYTHING IN THIS CELL THAT IS BELOW THIS LINE\n",
    "\"\"\"\n",
    "\n",
    "##############################\n",
    "## Build the Neural Network ##\n",
    "##############################\n",
    "\n",
    "# Remove previous weights, bias, inputs, etc..\n",
    "tf.reset_default_graph()\n",
    "\n",
    "# Inputs\n",
    "x = neural_net_image_input((32, 32, 3))\n",
    "y = neural_net_label_input(10)\n",
    "keep_prob = neural_net_keep_prob_input()\n",
    "\n",
    "# Model\n",
    "logits = conv_net(x, keep_prob)\n",
    "\n",
    "# Name logits Tensor, so that is can be loaded from disk after training\n",
    "logits = tf.identity(logits, name='logits')\n",
    "\n",
    "# Loss and Optimizer\n",
    "cost = tf.reduce_mean(tf.nn.softmax_cross_entropy_with_logits(logits=logits, labels=y))\n",
    "optimizer = tf.train.AdamOptimizer().minimize(cost)\n",
    "\n",
    "# Accuracy\n",
    "correct_pred = tf.equal(tf.argmax(logits, 1), tf.argmax(y, 1))\n",
    "accuracy = tf.reduce_mean(tf.cast(correct_pred, tf.float32), name='accuracy')\n",
    "\n",
    "tests.test_conv_net(conv_net)"
   ]
  },
  {
   "cell_type": "markdown",
   "metadata": {
    "deletable": true,
    "editable": true
   },
   "source": [
    "## Train the Neural Network\n",
    "### Single Optimization\n",
    "Implement the function `train_neural_network` to do a single optimization.  The optimization should use `optimizer` to optimize in `session` with a `feed_dict` of the following:\n",
    "* `x` for image input\n",
    "* `y` for labels\n",
    "* `keep_prob` for keep probability for dropout\n",
    "\n",
    "This function will be called for each batch, so `tf.global_variables_initializer()` has already been called.\n",
    "\n",
    "Note: Nothing needs to be returned. This function is only optimizing the neural network."
   ]
  },
  {
   "cell_type": "code",
   "execution_count": 24,
   "metadata": {
    "collapsed": false,
    "deletable": true,
    "editable": true
   },
   "outputs": [
    {
     "name": "stdout",
     "output_type": "stream",
     "text": [
      "Tests Passed\n"
     ]
    }
   ],
   "source": [
    "def train_neural_network(session, optimizer, keep_probability, feature_batch, label_batch):\n",
    "    \"\"\"\n",
    "    Optimize the session on a batch of images and labels\n",
    "    : session: Current TensorFlow session\n",
    "    : optimizer: TensorFlow optimizer function\n",
    "    : keep_probability: keep probability\n",
    "    : feature_batch: Batch of Numpy image data\n",
    "    : label_batch: Batch of Numpy label data\n",
    "    \"\"\"\n",
    "    # TODO: Implement Function\n",
    "    feed_dict = {\n",
    "        x: feature_batch,\n",
    "        y: label_batch,\n",
    "        keep_prob: keep_probability\n",
    "    }\n",
    "    session.run(optimizer, feed_dict)\n",
    "    pass\n",
    "\n",
    "\n",
    "\"\"\"\n",
    "DON'T MODIFY ANYTHING IN THIS CELL THAT IS BELOW THIS LINE\n",
    "\"\"\"\n",
    "tests.test_train_nn(train_neural_network)"
   ]
  },
  {
   "cell_type": "markdown",
   "metadata": {
    "deletable": true,
    "editable": true
   },
   "source": [
    "### Show Stats\n",
    "Implement the function `print_stats` to print loss and validation accuracy.  Use the global variables `valid_features` and `valid_labels` to calculate validation accuracy.  Use a keep probability of `1.0` to calculate the loss and validation accuracy."
   ]
  },
  {
   "cell_type": "code",
   "execution_count": 25,
   "metadata": {
    "collapsed": false,
    "deletable": true,
    "editable": true
   },
   "outputs": [],
   "source": [
    "def print_stats(session, feature_batch, label_batch, cost, accuracy):\n",
    "    \"\"\"\n",
    "    Print information about loss and validation accuracy\n",
    "    : session: Current TensorFlow session\n",
    "    : feature_batch: Batch of Numpy image data\n",
    "    : label_batch: Batch of Numpy label data\n",
    "    : cost: TensorFlow cost function\n",
    "    : accuracy: TensorFlow accuracy function\n",
    "    \"\"\"\n",
    "    # TODO: Implement Function\n",
    "    feed_dict = {\n",
    "        x: feature_batch,\n",
    "        y: label_batch,\n",
    "        keep_prob: 1.0\n",
    "    }\n",
    "    loss = session.run(cost, feed_dict)\n",
    "    validation = session.run(\n",
    "        accuracy,\n",
    "        feed_dict={\n",
    "            x: valid_features,\n",
    "            y: valid_labels,\n",
    "            keep_prob: 1.0\n",
    "        })\n",
    "    print('loss: {}, validation: {}'.format(loss, validation))\n",
    "    pass"
   ]
  },
  {
   "cell_type": "markdown",
   "metadata": {
    "deletable": true,
    "editable": true
   },
   "source": [
    "### Hyperparameters\n",
    "Tune the following parameters:\n",
    "* Set `epochs` to the number of iterations until the network stops learning or start overfitting\n",
    "* Set `batch_size` to the highest number that your machine has memory for.  Most people set them to common sizes of memory:\n",
    " * 64\n",
    " * 128\n",
    " * 256\n",
    " * ...\n",
    "* Set `keep_probability` to the probability of keeping a node using dropout"
   ]
  },
  {
   "cell_type": "code",
   "execution_count": 31,
   "metadata": {
    "collapsed": true,
    "deletable": true,
    "editable": true
   },
   "outputs": [],
   "source": [
    "# TODO: Tune Parameters\n",
    "epochs = 50\n",
    "batch_size = 128\n",
    "keep_probability = 0.85"
   ]
  },
  {
   "cell_type": "markdown",
   "metadata": {
    "deletable": true,
    "editable": true
   },
   "source": [
    "### Train on a Single CIFAR-10 Batch\n",
    "Instead of training the neural network on all the CIFAR-10 batches of data, let's use a single batch. This should save time while you iterate on the model to get a better accuracy.  Once the final validation accuracy is 50% or greater, run the model on all the data in the next section."
   ]
  },
  {
   "cell_type": "code",
   "execution_count": 16,
   "metadata": {
    "collapsed": false,
    "deletable": true,
    "editable": true
   },
   "outputs": [
    {
     "name": "stdout",
     "output_type": "stream",
     "text": [
      "Checking the Training on a Single Batch...\n",
      "Epoch  1, CIFAR-10 Batch 1:  loss: 2.442965507507324, validation: 0.10220000147819519\n",
      "Epoch  2, CIFAR-10 Batch 1:  loss: 2.3483903408050537, validation: 0.10679999738931656\n",
      "Epoch  3, CIFAR-10 Batch 1:  loss: 2.335911273956299, validation: 0.10639999806880951\n",
      "Epoch  4, CIFAR-10 Batch 1:  loss: 2.3251101970672607, validation: 0.10440000146627426\n",
      "Epoch  5, CIFAR-10 Batch 1:  loss: 2.3248963356018066, validation: 0.0997999981045723\n",
      "Epoch  6, CIFAR-10 Batch 1:  loss: 2.3264987468719482, validation: 0.10119999945163727\n",
      "Epoch  7, CIFAR-10 Batch 1:  loss: 2.3217461109161377, validation: 0.10339999943971634\n",
      "Epoch  8, CIFAR-10 Batch 1:  loss: 2.3213047981262207, validation: 0.10279999673366547\n",
      "Epoch  9, CIFAR-10 Batch 1:  loss: 2.3188178539276123, validation: 0.10220000147819519\n",
      "Epoch 10, CIFAR-10 Batch 1:  loss: 2.3198792934417725, validation: 0.10100000351667404\n",
      "Epoch 11, CIFAR-10 Batch 1:  loss: 2.3202996253967285, validation: 0.10220000147819519\n",
      "Epoch 12, CIFAR-10 Batch 1:  loss: 2.31915545463562, validation: 0.10040000081062317\n",
      "Epoch 13, CIFAR-10 Batch 1:  loss: 2.310612916946411, validation: 0.10360000282526016\n",
      "Epoch 14, CIFAR-10 Batch 1:  loss: 2.3066344261169434, validation: 0.10320000350475311\n",
      "Epoch 15, CIFAR-10 Batch 1:  loss: 2.3079910278320312, validation: 0.10019999742507935\n",
      "Epoch 16, CIFAR-10 Batch 1:  loss: 2.3078501224517822, validation: 0.10000000149011612\n",
      "Epoch 17, CIFAR-10 Batch 1:  loss: 2.3071799278259277, validation: 0.10040000081062317\n",
      "Epoch 18, CIFAR-10 Batch 1:  loss: 2.3072454929351807, validation: 0.10100000351667404\n",
      "Epoch 19, CIFAR-10 Batch 1:  loss: 2.308009624481201, validation: 0.10100000351667404\n",
      "Epoch 20, CIFAR-10 Batch 1:  loss: 2.30920672416687, validation: 0.10080000013113022\n",
      "Epoch 21, CIFAR-10 Batch 1:  loss: 2.3070263862609863, validation: 0.1005999967455864\n",
      "Epoch 22, CIFAR-10 Batch 1:  loss: 2.3064866065979004, validation: 0.0997999981045723\n",
      "Epoch 23, CIFAR-10 Batch 1:  loss: 2.3067378997802734, validation: 0.1005999967455864\n",
      "Epoch 24, CIFAR-10 Batch 1:  loss: 2.306001663208008, validation: 0.10159999877214432\n",
      "Epoch 25, CIFAR-10 Batch 1:  loss: 2.2980425357818604, validation: 0.10999999940395355\n",
      "Epoch 26, CIFAR-10 Batch 1:  loss: 2.3050613403320312, validation: 0.10080000013113022\n",
      "Epoch 27, CIFAR-10 Batch 1:  loss: 2.305269479751587, validation: 0.10159999877214432\n",
      "Epoch 28, CIFAR-10 Batch 1:  loss: 2.2857120037078857, validation: 0.10520000010728836\n",
      "Epoch 29, CIFAR-10 Batch 1:  loss: 2.2733664512634277, validation: 0.11140000075101852\n",
      "Epoch 30, CIFAR-10 Batch 1:  loss: 2.255253314971924, validation: 0.13760000467300415\n",
      "Epoch 31, CIFAR-10 Batch 1:  loss: 2.241487979888916, validation: 0.14079999923706055\n",
      "Epoch 32, CIFAR-10 Batch 1:  loss: 2.257596492767334, validation: 0.14800000190734863\n",
      "Epoch 33, CIFAR-10 Batch 1:  loss: 2.225191593170166, validation: 0.15440000593662262\n",
      "Epoch 34, CIFAR-10 Batch 1:  loss: 2.1889357566833496, validation: 0.17319999635219574\n",
      "Epoch 35, CIFAR-10 Batch 1:  loss: 2.155799150466919, validation: 0.17659999430179596\n",
      "Epoch 36, CIFAR-10 Batch 1:  loss: 2.1673789024353027, validation: 0.16840000450611115\n",
      "Epoch 37, CIFAR-10 Batch 1:  loss: 2.1185436248779297, validation: 0.18320000171661377\n",
      "Epoch 38, CIFAR-10 Batch 1:  loss: 2.1461141109466553, validation: 0.17100000381469727\n",
      "Epoch 39, CIFAR-10 Batch 1:  loss: 2.1422648429870605, validation: 0.18080000579357147\n",
      "Epoch 40, CIFAR-10 Batch 1:  loss: 2.1548287868499756, validation: 0.18199999630451202\n",
      "Epoch 41, CIFAR-10 Batch 1:  loss: 2.161787748336792, validation: 0.18379999697208405\n",
      "Epoch 42, CIFAR-10 Batch 1:  loss: 2.1461453437805176, validation: 0.19220000505447388\n",
      "Epoch 43, CIFAR-10 Batch 1:  loss: 2.157832145690918, validation: 0.18979999423027039\n",
      "Epoch 44, CIFAR-10 Batch 1:  loss: 2.109849214553833, validation: 0.1858000010251999\n",
      "Epoch 45, CIFAR-10 Batch 1:  loss: 2.0963306427001953, validation: 0.19699999690055847\n",
      "Epoch 46, CIFAR-10 Batch 1:  loss: 2.1300864219665527, validation: 0.20600000023841858\n",
      "Epoch 47, CIFAR-10 Batch 1:  loss: 2.129711866378784, validation: 0.19900000095367432\n",
      "Epoch 48, CIFAR-10 Batch 1:  loss: 2.139834403991699, validation: 0.19200000166893005\n",
      "Epoch 49, CIFAR-10 Batch 1:  loss: 2.1265811920166016, validation: 0.19480000436306\n",
      "Epoch 50, CIFAR-10 Batch 1:  loss: 2.0674705505371094, validation: 0.20600000023841858\n"
     ]
    }
   ],
   "source": [
    "\"\"\"\n",
    "DON'T MODIFY ANYTHING IN THIS CELL\n",
    "\"\"\"\n",
    "print('Checking the Training on a Single Batch...')\n",
    "with tf.Session() as sess:\n",
    "    # Initializing the variables\n",
    "    sess.run(tf.global_variables_initializer())\n",
    "    \n",
    "    # Training cycle\n",
    "    for epoch in range(epochs):\n",
    "        batch_i = 1\n",
    "        for batch_features, batch_labels in helper.load_preprocess_training_batch(batch_i, batch_size):\n",
    "            train_neural_network(sess, optimizer, keep_probability, batch_features, batch_labels)\n",
    "        print('Epoch {:>2}, CIFAR-10 Batch {}:  '.format(epoch + 1, batch_i), end='')\n",
    "        print_stats(sess, batch_features, batch_labels, cost, accuracy)"
   ]
  },
  {
   "cell_type": "markdown",
   "metadata": {
    "deletable": true,
    "editable": true
   },
   "source": [
    "### Fully Train the Model\n",
    "Now that you got a good accuracy with a single CIFAR-10 batch, try it with all five batches."
   ]
  },
  {
   "cell_type": "code",
   "execution_count": 32,
   "metadata": {
    "collapsed": false,
    "deletable": true,
    "editable": true
   },
   "outputs": [
    {
     "name": "stdout",
     "output_type": "stream",
     "text": [
      "Training...\n",
      "Epoch  1, CIFAR-10 Batch 1:  loss: 4.470475196838379, validation: 0.13940000534057617\n",
      "Epoch  1, CIFAR-10 Batch 2:  loss: 2.5206170082092285, validation: 0.11180000007152557\n",
      "Epoch  1, CIFAR-10 Batch 3:  loss: 2.3184800148010254, validation: 0.10540000349283218\n",
      "Epoch  1, CIFAR-10 Batch 4:  loss: 2.3114705085754395, validation: 0.10760000348091125\n",
      "Epoch  1, CIFAR-10 Batch 5:  loss: 2.2873988151550293, validation: 0.10379999876022339\n",
      "Epoch  2, CIFAR-10 Batch 1:  loss: 2.2955238819122314, validation: 0.11339999735355377\n",
      "Epoch  2, CIFAR-10 Batch 2:  loss: 2.311906099319458, validation: 0.10760000348091125\n",
      "Epoch  2, CIFAR-10 Batch 3:  loss: 2.2752606868743896, validation: 0.10459999740123749\n",
      "Epoch  2, CIFAR-10 Batch 4:  loss: 2.3059582710266113, validation: 0.12099999934434891\n",
      "Epoch  2, CIFAR-10 Batch 5:  loss: 2.2836532592773438, validation: 0.12939999997615814\n",
      "Epoch  3, CIFAR-10 Batch 1:  loss: 2.269564151763916, validation: 0.13539999723434448\n",
      "Epoch  3, CIFAR-10 Batch 2:  loss: 2.2956173419952393, validation: 0.13179999589920044\n",
      "Epoch  3, CIFAR-10 Batch 3:  loss: 2.227327823638916, validation: 0.14480000734329224\n",
      "Epoch  3, CIFAR-10 Batch 4:  loss: 2.2665343284606934, validation: 0.12780000269412994\n",
      "Epoch  3, CIFAR-10 Batch 5:  loss: 2.2675681114196777, validation: 0.13619999587535858\n",
      "Epoch  4, CIFAR-10 Batch 1:  loss: 2.2372214794158936, validation: 0.15080000460147858\n",
      "Epoch  4, CIFAR-10 Batch 2:  loss: 2.2758853435516357, validation: 0.1395999938249588\n",
      "Epoch  4, CIFAR-10 Batch 3:  loss: 2.1740164756774902, validation: 0.1324000060558319\n",
      "Epoch  4, CIFAR-10 Batch 4:  loss: 2.225768566131592, validation: 0.14399999380111694\n",
      "Epoch  4, CIFAR-10 Batch 5:  loss: 2.2538373470306396, validation: 0.1467999964952469\n",
      "Epoch  5, CIFAR-10 Batch 1:  loss: 2.217531442642212, validation: 0.15479999780654907\n",
      "Epoch  5, CIFAR-10 Batch 2:  loss: 2.252432346343994, validation: 0.15199999511241913\n",
      "Epoch  5, CIFAR-10 Batch 3:  loss: 2.125443935394287, validation: 0.1501999944448471\n",
      "Epoch  5, CIFAR-10 Batch 4:  loss: 2.1787962913513184, validation: 0.16060000658035278\n",
      "Epoch  5, CIFAR-10 Batch 5:  loss: 2.2299790382385254, validation: 0.1656000018119812\n",
      "Epoch  6, CIFAR-10 Batch 1:  loss: 2.2088401317596436, validation: 0.1671999990940094\n",
      "Epoch  6, CIFAR-10 Batch 2:  loss: 2.2300994396209717, validation: 0.16899999976158142\n",
      "Epoch  6, CIFAR-10 Batch 3:  loss: 2.0513861179351807, validation: 0.1624000072479248\n",
      "Epoch  6, CIFAR-10 Batch 4:  loss: 2.1289491653442383, validation: 0.16419999301433563\n",
      "Epoch  6, CIFAR-10 Batch 5:  loss: 2.179696559906006, validation: 0.17100000381469727\n",
      "Epoch  7, CIFAR-10 Batch 1:  loss: 2.2048676013946533, validation: 0.1695999950170517\n",
      "Epoch  7, CIFAR-10 Batch 2:  loss: 2.1918983459472656, validation: 0.16519999504089355\n",
      "Epoch  7, CIFAR-10 Batch 3:  loss: 2.024319887161255, validation: 0.1615999937057495\n",
      "Epoch  7, CIFAR-10 Batch 4:  loss: 2.0785984992980957, validation: 0.17820000648498535\n",
      "Epoch  7, CIFAR-10 Batch 5:  loss: 2.1447091102600098, validation: 0.18080000579357147\n",
      "Epoch  8, CIFAR-10 Batch 1:  loss: 2.1956868171691895, validation: 0.18320000171661377\n",
      "Epoch  8, CIFAR-10 Batch 2:  loss: 2.1506335735321045, validation: 0.1858000010251999\n",
      "Epoch  8, CIFAR-10 Batch 3:  loss: 1.9401285648345947, validation: 0.18039999902248383\n",
      "Epoch  8, CIFAR-10 Batch 4:  loss: 2.085454225540161, validation: 0.18940000236034393\n",
      "Epoch  8, CIFAR-10 Batch 5:  loss: 2.149137020111084, validation: 0.19040000438690186\n",
      "Epoch  9, CIFAR-10 Batch 1:  loss: 2.1744654178619385, validation: 0.1860000044107437\n",
      "Epoch  9, CIFAR-10 Batch 2:  loss: 2.126974582672119, validation: 0.1972000002861023\n",
      "Epoch  9, CIFAR-10 Batch 3:  loss: 1.9168659448623657, validation: 0.19020000100135803\n",
      "Epoch  9, CIFAR-10 Batch 4:  loss: 2.0773885250091553, validation: 0.19099999964237213\n",
      "Epoch  9, CIFAR-10 Batch 5:  loss: 2.1309471130371094, validation: 0.2021999955177307\n",
      "Epoch 10, CIFAR-10 Batch 1:  loss: 2.2011497020721436, validation: 0.1915999948978424\n",
      "Epoch 10, CIFAR-10 Batch 2:  loss: 2.1258134841918945, validation: 0.19539999961853027\n",
      "Epoch 10, CIFAR-10 Batch 3:  loss: 1.9144554138183594, validation: 0.20559999346733093\n",
      "Epoch 10, CIFAR-10 Batch 4:  loss: 2.059788465499878, validation: 0.2003999948501587\n",
      "Epoch 10, CIFAR-10 Batch 5:  loss: 2.1272635459899902, validation: 0.20559999346733093\n",
      "Epoch 11, CIFAR-10 Batch 1:  loss: 2.188619375228882, validation: 0.2029999941587448\n",
      "Epoch 11, CIFAR-10 Batch 2:  loss: 2.116964817047119, validation: 0.21140000224113464\n",
      "Epoch 11, CIFAR-10 Batch 3:  loss: 1.8868720531463623, validation: 0.20340000092983246\n",
      "Epoch 11, CIFAR-10 Batch 4:  loss: 2.042811155319214, validation: 0.186599999666214\n",
      "Epoch 11, CIFAR-10 Batch 5:  loss: 2.0960965156555176, validation: 0.2117999941110611\n",
      "Epoch 12, CIFAR-10 Batch 1:  loss: 2.185486316680908, validation: 0.2062000036239624\n",
      "Epoch 12, CIFAR-10 Batch 2:  loss: 2.1186821460723877, validation: 0.21580000221729279\n",
      "Epoch 12, CIFAR-10 Batch 3:  loss: 1.8577343225479126, validation: 0.2093999981880188\n",
      "Epoch 12, CIFAR-10 Batch 4:  loss: 2.0356616973876953, validation: 0.19679999351501465\n",
      "Epoch 12, CIFAR-10 Batch 5:  loss: 2.070493221282959, validation: 0.21660000085830688\n",
      "Epoch 13, CIFAR-10 Batch 1:  loss: 2.195552110671997, validation: 0.20759999752044678\n",
      "Epoch 13, CIFAR-10 Batch 2:  loss: 2.088939666748047, validation: 0.21539999544620514\n",
      "Epoch 13, CIFAR-10 Batch 3:  loss: 1.850376844406128, validation: 0.20520000159740448\n",
      "Epoch 13, CIFAR-10 Batch 4:  loss: 2.030522346496582, validation: 0.2013999968767166\n",
      "Epoch 13, CIFAR-10 Batch 5:  loss: 2.0562758445739746, validation: 0.20919999480247498\n",
      "Epoch 14, CIFAR-10 Batch 1:  loss: 2.152470827102661, validation: 0.2150000035762787\n",
      "Epoch 14, CIFAR-10 Batch 2:  loss: 2.0523128509521484, validation: 0.2093999981880188\n",
      "Epoch 14, CIFAR-10 Batch 3:  loss: 1.8217130899429321, validation: 0.20260000228881836\n",
      "Epoch 14, CIFAR-10 Batch 4:  loss: 2.0116164684295654, validation: 0.20180000364780426\n",
      "Epoch 14, CIFAR-10 Batch 5:  loss: 2.0206594467163086, validation: 0.21080000698566437\n",
      "Epoch 15, CIFAR-10 Batch 1:  loss: 2.159421682357788, validation: 0.20960000157356262\n",
      "Epoch 15, CIFAR-10 Batch 2:  loss: 2.049668312072754, validation: 0.21359999477863312\n",
      "Epoch 15, CIFAR-10 Batch 3:  loss: 1.809618592262268, validation: 0.19859999418258667\n",
      "Epoch 15, CIFAR-10 Batch 4:  loss: 1.9979629516601562, validation: 0.19300000369548798\n",
      "Epoch 15, CIFAR-10 Batch 5:  loss: 2.002174139022827, validation: 0.2101999968290329\n",
      "Epoch 16, CIFAR-10 Batch 1:  loss: 2.1610608100891113, validation: 0.21459999680519104\n",
      "Epoch 16, CIFAR-10 Batch 2:  loss: 2.0102787017822266, validation: 0.21899999678134918\n",
      "Epoch 16, CIFAR-10 Batch 3:  loss: 1.8022873401641846, validation: 0.19359999895095825\n",
      "Epoch 16, CIFAR-10 Batch 4:  loss: 1.9887357950210571, validation: 0.19280000030994415\n",
      "Epoch 16, CIFAR-10 Batch 5:  loss: 1.988656759262085, validation: 0.2070000022649765\n",
      "Epoch 17, CIFAR-10 Batch 1:  loss: 2.139730215072632, validation: 0.2150000035762787\n",
      "Epoch 17, CIFAR-10 Batch 2:  loss: 2.0134494304656982, validation: 0.219200000166893\n",
      "Epoch 17, CIFAR-10 Batch 3:  loss: 1.7856757640838623, validation: 0.20759999752044678\n",
      "Epoch 17, CIFAR-10 Batch 4:  loss: 1.9850666522979736, validation: 0.2037999927997589\n",
      "Epoch 17, CIFAR-10 Batch 5:  loss: 1.9470741748809814, validation: 0.21539999544620514\n",
      "Epoch 18, CIFAR-10 Batch 1:  loss: 2.1023924350738525, validation: 0.23100000619888306\n",
      "Epoch 18, CIFAR-10 Batch 2:  loss: 1.9380830526351929, validation: 0.24120000004768372\n",
      "Epoch 18, CIFAR-10 Batch 3:  loss: 1.7820093631744385, validation: 0.2362000048160553\n",
      "Epoch 18, CIFAR-10 Batch 4:  loss: 1.944403052330017, validation: 0.2484000027179718\n",
      "Epoch 18, CIFAR-10 Batch 5:  loss: 1.9384657144546509, validation: 0.2529999911785126\n",
      "Epoch 19, CIFAR-10 Batch 1:  loss: 1.971379041671753, validation: 0.26980000734329224\n",
      "Epoch 19, CIFAR-10 Batch 2:  loss: 1.8752295970916748, validation: 0.27140000462532043\n",
      "Epoch 19, CIFAR-10 Batch 3:  loss: 1.6882966756820679, validation: 0.2720000147819519\n",
      "Epoch 19, CIFAR-10 Batch 4:  loss: 1.859357476234436, validation: 0.28679999709129333\n",
      "Epoch 19, CIFAR-10 Batch 5:  loss: 1.887359857559204, validation: 0.2712000012397766\n",
      "Epoch 20, CIFAR-10 Batch 1:  loss: 1.9328651428222656, validation: 0.2874000072479248\n",
      "Epoch 20, CIFAR-10 Batch 2:  loss: 1.7882827520370483, validation: 0.2881999909877777\n",
      "Epoch 20, CIFAR-10 Batch 3:  loss: 1.607556939125061, validation: 0.29159998893737793\n",
      "Epoch 20, CIFAR-10 Batch 4:  loss: 1.790464162826538, validation: 0.3041999936103821\n",
      "Epoch 20, CIFAR-10 Batch 5:  loss: 1.8085724115371704, validation: 0.305400013923645\n",
      "Epoch 21, CIFAR-10 Batch 1:  loss: 1.858574628829956, validation: 0.3124000132083893\n",
      "Epoch 21, CIFAR-10 Batch 2:  loss: 1.769720435142517, validation: 0.3208000063896179\n",
      "Epoch 21, CIFAR-10 Batch 3:  loss: 1.5901453495025635, validation: 0.3140000104904175\n",
      "Epoch 21, CIFAR-10 Batch 4:  loss: 1.8150304555892944, validation: 0.31040000915527344\n",
      "Epoch 21, CIFAR-10 Batch 5:  loss: 1.8152196407318115, validation: 0.3188000023365021\n",
      "Epoch 22, CIFAR-10 Batch 1:  loss: 1.8376531600952148, validation: 0.3285999894142151\n",
      "Epoch 22, CIFAR-10 Batch 2:  loss: 1.7173035144805908, validation: 0.33640000224113464\n",
      "Epoch 22, CIFAR-10 Batch 3:  loss: 1.5729223489761353, validation: 0.31439998745918274\n",
      "Epoch 22, CIFAR-10 Batch 4:  loss: 1.82074773311615, validation: 0.3449999988079071\n",
      "Epoch 22, CIFAR-10 Batch 5:  loss: 1.7970993518829346, validation: 0.3384000062942505\n",
      "Epoch 23, CIFAR-10 Batch 1:  loss: 1.8204708099365234, validation: 0.3467999994754791\n",
      "Epoch 23, CIFAR-10 Batch 2:  loss: 1.7281557321548462, validation: 0.35339999198913574\n",
      "Epoch 23, CIFAR-10 Batch 3:  loss: 1.5955959558486938, validation: 0.3407999873161316\n",
      "Epoch 23, CIFAR-10 Batch 4:  loss: 1.73043954372406, validation: 0.36059999465942383\n",
      "Epoch 23, CIFAR-10 Batch 5:  loss: 1.8021819591522217, validation: 0.3522000014781952\n",
      "Epoch 24, CIFAR-10 Batch 1:  loss: 1.7632954120635986, validation: 0.3630000054836273\n",
      "Epoch 24, CIFAR-10 Batch 2:  loss: 1.743346929550171, validation: 0.36980000138282776\n",
      "Epoch 24, CIFAR-10 Batch 3:  loss: 1.560914158821106, validation: 0.35580000281333923\n",
      "Epoch 24, CIFAR-10 Batch 4:  loss: 1.681317687034607, validation: 0.3619999885559082\n",
      "Epoch 24, CIFAR-10 Batch 5:  loss: 1.740237832069397, validation: 0.3643999993801117\n",
      "Epoch 25, CIFAR-10 Batch 1:  loss: 1.7285373210906982, validation: 0.37860000133514404\n",
      "Epoch 25, CIFAR-10 Batch 2:  loss: 1.7186235189437866, validation: 0.37959998846054077\n",
      "Epoch 25, CIFAR-10 Batch 3:  loss: 1.6084131002426147, validation: 0.3630000054836273\n",
      "Epoch 25, CIFAR-10 Batch 4:  loss: 1.6563352346420288, validation: 0.376800000667572\n",
      "Epoch 25, CIFAR-10 Batch 5:  loss: 1.7398815155029297, validation: 0.37459999322891235\n",
      "Epoch 26, CIFAR-10 Batch 1:  loss: 1.683345079421997, validation: 0.3952000141143799\n",
      "Epoch 26, CIFAR-10 Batch 2:  loss: 1.6888434886932373, validation: 0.38839998841285706\n",
      "Epoch 26, CIFAR-10 Batch 3:  loss: 1.5022361278533936, validation: 0.37880000472068787\n",
      "Epoch 26, CIFAR-10 Batch 4:  loss: 1.6713985204696655, validation: 0.39399999380111694\n",
      "Epoch 26, CIFAR-10 Batch 5:  loss: 1.6881732940673828, validation: 0.3946000039577484\n",
      "Epoch 27, CIFAR-10 Batch 1:  loss: 1.6704257726669312, validation: 0.4065999984741211\n",
      "Epoch 27, CIFAR-10 Batch 2:  loss: 1.646515130996704, validation: 0.397599995136261\n",
      "Epoch 27, CIFAR-10 Batch 3:  loss: 1.4524153470993042, validation: 0.40059998631477356\n",
      "Epoch 27, CIFAR-10 Batch 4:  loss: 1.6766036748886108, validation: 0.41119998693466187\n",
      "Epoch 27, CIFAR-10 Batch 5:  loss: 1.682630181312561, validation: 0.40299999713897705\n",
      "Epoch 28, CIFAR-10 Batch 1:  loss: 1.678165078163147, validation: 0.4146000146865845\n",
      "Epoch 28, CIFAR-10 Batch 2:  loss: 1.6323826313018799, validation: 0.4009999930858612\n",
      "Epoch 28, CIFAR-10 Batch 3:  loss: 1.445361852645874, validation: 0.40720000863075256\n",
      "Epoch 28, CIFAR-10 Batch 4:  loss: 1.6346523761749268, validation: 0.41620001196861267\n",
      "Epoch 28, CIFAR-10 Batch 5:  loss: 1.6604362726211548, validation: 0.4081999957561493\n",
      "Epoch 29, CIFAR-10 Batch 1:  loss: 1.6389131546020508, validation: 0.41920000314712524\n",
      "Epoch 29, CIFAR-10 Batch 2:  loss: 1.6153205633163452, validation: 0.4090000092983246\n",
      "Epoch 29, CIFAR-10 Batch 3:  loss: 1.412865400314331, validation: 0.41839998960494995\n",
      "Epoch 29, CIFAR-10 Batch 4:  loss: 1.5987212657928467, validation: 0.42739999294281006\n",
      "Epoch 29, CIFAR-10 Batch 5:  loss: 1.645381212234497, validation: 0.4092000126838684\n",
      "Epoch 30, CIFAR-10 Batch 1:  loss: 1.6562137603759766, validation: 0.4275999963283539\n",
      "Epoch 30, CIFAR-10 Batch 2:  loss: 1.5565745830535889, validation: 0.4291999936103821\n",
      "Epoch 30, CIFAR-10 Batch 3:  loss: 1.393829584121704, validation: 0.4352000057697296\n",
      "Epoch 30, CIFAR-10 Batch 4:  loss: 1.5563944578170776, validation: 0.4447999894618988\n",
      "Epoch 30, CIFAR-10 Batch 5:  loss: 1.6249386072158813, validation: 0.4325999915599823\n",
      "Epoch 31, CIFAR-10 Batch 1:  loss: 1.630854845046997, validation: 0.4546000063419342\n",
      "Epoch 31, CIFAR-10 Batch 2:  loss: 1.5039348602294922, validation: 0.44519999623298645\n",
      "Epoch 31, CIFAR-10 Batch 3:  loss: 1.3900610208511353, validation: 0.45179998874664307\n",
      "Epoch 31, CIFAR-10 Batch 4:  loss: 1.529218316078186, validation: 0.45019999146461487\n",
      "Epoch 31, CIFAR-10 Batch 5:  loss: 1.6409921646118164, validation: 0.43619999289512634\n",
      "Epoch 32, CIFAR-10 Batch 1:  loss: 1.6404939889907837, validation: 0.4620000123977661\n",
      "Epoch 32, CIFAR-10 Batch 2:  loss: 1.5090053081512451, validation: 0.45320001244544983\n",
      "Epoch 32, CIFAR-10 Batch 3:  loss: 1.3817421197891235, validation: 0.45239999890327454\n",
      "Epoch 32, CIFAR-10 Batch 4:  loss: 1.4540411233901978, validation: 0.453000009059906\n",
      "Epoch 32, CIFAR-10 Batch 5:  loss: 1.6260814666748047, validation: 0.4399999976158142\n",
      "Epoch 33, CIFAR-10 Batch 1:  loss: 1.5722678899765015, validation: 0.46380001306533813\n",
      "Epoch 33, CIFAR-10 Batch 2:  loss: 1.477085828781128, validation: 0.44679999351501465\n",
      "Epoch 33, CIFAR-10 Batch 3:  loss: 1.317724347114563, validation: 0.4643999934196472\n",
      "Epoch 33, CIFAR-10 Batch 4:  loss: 1.4459431171417236, validation: 0.45820000767707825\n",
      "Epoch 33, CIFAR-10 Batch 5:  loss: 1.5848979949951172, validation: 0.4564000070095062\n",
      "Epoch 34, CIFAR-10 Batch 1:  loss: 1.5281624794006348, validation: 0.47360000014305115\n",
      "Epoch 34, CIFAR-10 Batch 2:  loss: 1.4434056282043457, validation: 0.45579999685287476\n",
      "Epoch 34, CIFAR-10 Batch 3:  loss: 1.297755241394043, validation: 0.4729999899864197\n",
      "Epoch 34, CIFAR-10 Batch 4:  loss: 1.3894442319869995, validation: 0.47360000014305115\n",
      "Epoch 34, CIFAR-10 Batch 5:  loss: 1.5867961645126343, validation: 0.45579999685287476\n",
      "Epoch 35, CIFAR-10 Batch 1:  loss: 1.5056437253952026, validation: 0.4787999987602234\n",
      "Epoch 35, CIFAR-10 Batch 2:  loss: 1.4408506155014038, validation: 0.4702000021934509\n",
      "Epoch 35, CIFAR-10 Batch 3:  loss: 1.2835026979446411, validation: 0.47920000553131104\n",
      "Epoch 35, CIFAR-10 Batch 4:  loss: 1.3965251445770264, validation: 0.47699999809265137\n",
      "Epoch 35, CIFAR-10 Batch 5:  loss: 1.5295413732528687, validation: 0.46779999136924744\n",
      "Epoch 36, CIFAR-10 Batch 1:  loss: 1.4784146547317505, validation: 0.4797999858856201\n",
      "Epoch 36, CIFAR-10 Batch 2:  loss: 1.3782418966293335, validation: 0.4745999872684479\n",
      "Epoch 36, CIFAR-10 Batch 3:  loss: 1.257476568222046, validation: 0.4864000082015991\n",
      "Epoch 36, CIFAR-10 Batch 4:  loss: 1.3558738231658936, validation: 0.47600001096725464\n",
      "Epoch 36, CIFAR-10 Batch 5:  loss: 1.5251476764678955, validation: 0.46959999203681946\n",
      "Epoch 37, CIFAR-10 Batch 1:  loss: 1.5219190120697021, validation: 0.4846000075340271\n",
      "Epoch 37, CIFAR-10 Batch 2:  loss: 1.4135713577270508, validation: 0.4745999872684479\n",
      "Epoch 37, CIFAR-10 Batch 3:  loss: 1.255584716796875, validation: 0.483599990606308\n",
      "Epoch 37, CIFAR-10 Batch 4:  loss: 1.356946349143982, validation: 0.48399999737739563\n",
      "Epoch 37, CIFAR-10 Batch 5:  loss: 1.5331686735153198, validation: 0.46959999203681946\n",
      "Epoch 38, CIFAR-10 Batch 1:  loss: 1.4736177921295166, validation: 0.5\n",
      "Epoch 38, CIFAR-10 Batch 2:  loss: 1.3459079265594482, validation: 0.47360000014305115\n",
      "Epoch 38, CIFAR-10 Batch 3:  loss: 1.2161662578582764, validation: 0.48539999127388\n",
      "Epoch 38, CIFAR-10 Batch 4:  loss: 1.3413846492767334, validation: 0.4952000081539154\n",
      "Epoch 38, CIFAR-10 Batch 5:  loss: 1.4913852214813232, validation: 0.4790000021457672\n",
      "Epoch 39, CIFAR-10 Batch 1:  loss: 1.4530082941055298, validation: 0.501800000667572\n",
      "Epoch 39, CIFAR-10 Batch 2:  loss: 1.3544114828109741, validation: 0.4832000136375427\n",
      "Epoch 39, CIFAR-10 Batch 3:  loss: 1.1765741109848022, validation: 0.4984000027179718\n",
      "Epoch 39, CIFAR-10 Batch 4:  loss: 1.3181626796722412, validation: 0.4975999891757965\n",
      "Epoch 39, CIFAR-10 Batch 5:  loss: 1.5138299465179443, validation: 0.48019999265670776\n",
      "Epoch 40, CIFAR-10 Batch 1:  loss: 1.4445245265960693, validation: 0.492000013589859\n",
      "Epoch 40, CIFAR-10 Batch 2:  loss: 1.3869225978851318, validation: 0.49219998717308044\n",
      "Epoch 40, CIFAR-10 Batch 3:  loss: 1.1543766260147095, validation: 0.5001999735832214\n",
      "Epoch 40, CIFAR-10 Batch 4:  loss: 1.3121618032455444, validation: 0.49720001220703125\n",
      "Epoch 40, CIFAR-10 Batch 5:  loss: 1.468874454498291, validation: 0.4837999939918518\n",
      "Epoch 41, CIFAR-10 Batch 1:  loss: 1.4046682119369507, validation: 0.506600022315979\n",
      "Epoch 41, CIFAR-10 Batch 2:  loss: 1.3596917390823364, validation: 0.49320000410079956\n",
      "Epoch 41, CIFAR-10 Batch 3:  loss: 1.136670470237732, validation: 0.503600001335144\n",
      "Epoch 41, CIFAR-10 Batch 4:  loss: 1.3049747943878174, validation: 0.49720001220703125\n",
      "Epoch 41, CIFAR-10 Batch 5:  loss: 1.4535341262817383, validation: 0.48980000615119934\n",
      "Epoch 42, CIFAR-10 Batch 1:  loss: 1.4007823467254639, validation: 0.5088000297546387\n",
      "Epoch 42, CIFAR-10 Batch 2:  loss: 1.2976293563842773, validation: 0.4936000108718872\n",
      "Epoch 42, CIFAR-10 Batch 3:  loss: 1.1000022888183594, validation: 0.506600022315979\n",
      "Epoch 42, CIFAR-10 Batch 4:  loss: 1.2883155345916748, validation: 0.506600022315979\n",
      "Epoch 42, CIFAR-10 Batch 5:  loss: 1.478905439376831, validation: 0.49399998784065247\n",
      "Epoch 43, CIFAR-10 Batch 1:  loss: 1.3576360940933228, validation: 0.5059999823570251\n",
      "Epoch 43, CIFAR-10 Batch 2:  loss: 1.2776031494140625, validation: 0.4950000047683716\n",
      "Epoch 43, CIFAR-10 Batch 3:  loss: 1.1074345111846924, validation: 0.5126000046730042\n",
      "Epoch 43, CIFAR-10 Batch 4:  loss: 1.2879899740219116, validation: 0.5\n",
      "Epoch 43, CIFAR-10 Batch 5:  loss: 1.41492760181427, validation: 0.5058000087738037\n",
      "Epoch 44, CIFAR-10 Batch 1:  loss: 1.3418924808502197, validation: 0.5120000243186951\n",
      "Epoch 44, CIFAR-10 Batch 2:  loss: 1.2564606666564941, validation: 0.4893999993801117\n",
      "Epoch 44, CIFAR-10 Batch 3:  loss: 1.060308814048767, validation: 0.5152000188827515\n",
      "Epoch 44, CIFAR-10 Batch 4:  loss: 1.2410603761672974, validation: 0.5099999904632568\n",
      "Epoch 44, CIFAR-10 Batch 5:  loss: 1.4489282369613647, validation: 0.49639999866485596\n",
      "Epoch 45, CIFAR-10 Batch 1:  loss: 1.3455653190612793, validation: 0.5095999836921692\n",
      "Epoch 45, CIFAR-10 Batch 2:  loss: 1.2205641269683838, validation: 0.49720001220703125\n",
      "Epoch 45, CIFAR-10 Batch 3:  loss: 1.0730831623077393, validation: 0.5166000127792358\n",
      "Epoch 45, CIFAR-10 Batch 4:  loss: 1.2374000549316406, validation: 0.5113999843597412\n",
      "Epoch 45, CIFAR-10 Batch 5:  loss: 1.4770976305007935, validation: 0.498199999332428\n",
      "Epoch 46, CIFAR-10 Batch 1:  loss: 1.3540973663330078, validation: 0.5221999883651733\n",
      "Epoch 46, CIFAR-10 Batch 2:  loss: 1.2911714315414429, validation: 0.5099999904632568\n",
      "Epoch 46, CIFAR-10 Batch 3:  loss: 1.0871350765228271, validation: 0.5175999999046326\n",
      "Epoch 46, CIFAR-10 Batch 4:  loss: 1.1872217655181885, validation: 0.5026000142097473\n",
      "Epoch 46, CIFAR-10 Batch 5:  loss: 1.4284011125564575, validation: 0.5081999897956848\n",
      "Epoch 47, CIFAR-10 Batch 1:  loss: 1.3623087406158447, validation: 0.5180000066757202\n",
      "Epoch 47, CIFAR-10 Batch 2:  loss: 1.252358317375183, validation: 0.5080000162124634\n",
      "Epoch 47, CIFAR-10 Batch 3:  loss: 1.0721509456634521, validation: 0.5139999985694885\n",
      "Epoch 47, CIFAR-10 Batch 4:  loss: 1.1795495748519897, validation: 0.5188000202178955\n",
      "Epoch 47, CIFAR-10 Batch 5:  loss: 1.4486700296401978, validation: 0.49779999256134033\n",
      "Epoch 48, CIFAR-10 Batch 1:  loss: 1.333470106124878, validation: 0.5149999856948853\n",
      "Epoch 48, CIFAR-10 Batch 2:  loss: 1.2162401676177979, validation: 0.5109999775886536\n",
      "Epoch 48, CIFAR-10 Batch 3:  loss: 1.0678726434707642, validation: 0.5260000228881836\n",
      "Epoch 48, CIFAR-10 Batch 4:  loss: 1.1736652851104736, validation: 0.5248000025749207\n",
      "Epoch 48, CIFAR-10 Batch 5:  loss: 1.3805292844772339, validation: 0.5091999769210815\n",
      "Epoch 49, CIFAR-10 Batch 1:  loss: 1.340993881225586, validation: 0.5212000012397766\n",
      "Epoch 49, CIFAR-10 Batch 2:  loss: 1.2289838790893555, validation: 0.5144000053405762\n",
      "Epoch 49, CIFAR-10 Batch 3:  loss: 1.0423533916473389, validation: 0.5299999713897705\n",
      "Epoch 49, CIFAR-10 Batch 4:  loss: 1.1471679210662842, validation: 0.5210000276565552\n",
      "Epoch 49, CIFAR-10 Batch 5:  loss: 1.3777498006820679, validation: 0.5123999714851379\n",
      "Epoch 50, CIFAR-10 Batch 1:  loss: 1.3391367197036743, validation: 0.5221999883651733\n",
      "Epoch 50, CIFAR-10 Batch 2:  loss: 1.2527549266815186, validation: 0.5070000290870667\n",
      "Epoch 50, CIFAR-10 Batch 3:  loss: 0.9788376092910767, validation: 0.5342000126838684\n",
      "Epoch 50, CIFAR-10 Batch 4:  loss: 1.150024175643921, validation: 0.5199999809265137\n",
      "Epoch 50, CIFAR-10 Batch 5:  loss: 1.4261239767074585, validation: 0.503000020980835\n"
     ]
    }
   ],
   "source": [
    "\"\"\"\n",
    "DON'T MODIFY ANYTHING IN THIS CELL\n",
    "\"\"\"\n",
    "save_model_path = './image_classification'\n",
    "\n",
    "print('Training...')\n",
    "with tf.Session() as sess:\n",
    "    # Initializing the variables\n",
    "    sess.run(tf.global_variables_initializer())\n",
    "    \n",
    "    # Training cycle\n",
    "    for epoch in range(epochs):\n",
    "        # Loop over all batches\n",
    "        n_batches = 5\n",
    "        for batch_i in range(1, n_batches + 1):\n",
    "            for batch_features, batch_labels in helper.load_preprocess_training_batch(batch_i, batch_size):\n",
    "                train_neural_network(sess, optimizer, keep_probability, batch_features, batch_labels)\n",
    "            print('Epoch {:>2}, CIFAR-10 Batch {}:  '.format(epoch + 1, batch_i), end='')\n",
    "            print_stats(sess, batch_features, batch_labels, cost, accuracy)\n",
    "            \n",
    "    # Save Model\n",
    "    saver = tf.train.Saver()\n",
    "    save_path = saver.save(sess, save_model_path)"
   ]
  },
  {
   "cell_type": "markdown",
   "metadata": {
    "deletable": true,
    "editable": true
   },
   "source": [
    "# Checkpoint\n",
    "The model has been saved to disk.\n",
    "## Test Model\n",
    "Test your model against the test dataset.  This will be your final accuracy. You should have an accuracy greater than 50%. If you don't, keep tweaking the model architecture and parameters."
   ]
  },
  {
   "cell_type": "code",
   "execution_count": 33,
   "metadata": {
    "collapsed": false,
    "deletable": true,
    "editable": true
   },
   "outputs": [
    {
     "name": "stdout",
     "output_type": "stream",
     "text": [
      "Testing Accuracy: 0.5058346518987342\n",
      "\n"
     ]
    },
    {
     "data": {
      "image/png": "[encoded data removed]",
      "text/plain": [
       "<matplotlib.figure.Figure at 0x115a71710>"
      ]
     },
     "metadata": {
      "image/png": {
       "height": 319,
       "width": 355
      }
     },
     "output_type": "display_data"
    }
   ],
   "source": [
    "\"\"\"\n",
    "DON'T MODIFY ANYTHING IN THIS CELL\n",
    "\"\"\"\n",
    "%matplotlib inline\n",
    "%config InlineBackend.figure_format = 'retina'\n",
    "\n",
    "import tensorflow as tf\n",
    "import pickle\n",
    "import helper\n",
    "import random\n",
    "\n",
    "# Set batch size if not already set\n",
    "try:\n",
    "    if batch_size:\n",
    "        pass\n",
    "except NameError:\n",
    "    batch_size = 64\n",
    "\n",
    "save_model_path = './image_classification'\n",
    "n_samples = 4\n",
    "top_n_predictions = 3\n",
    "\n",
    "def test_model():\n",
    "    \"\"\"\n",
    "    Test the saved model against the test dataset\n",
    "    \"\"\"\n",
    "\n",
    "    test_features, test_labels = pickle.load(open('preprocess_training.p', mode='rb'))\n",
    "    loaded_graph = tf.Graph()\n",
    "\n",
    "    with tf.Session(graph=loaded_graph) as sess:\n",
    "        # Load model\n",
    "        loader = tf.train.import_meta_graph(save_model_path + '.meta')\n",
    "        loader.restore(sess, save_model_path)\n",
    "\n",
    "        # Get Tensors from loaded model\n",
    "        loaded_x = loaded_graph.get_tensor_by_name('x:0')\n",
    "        loaded_y = loaded_graph.get_tensor_by_name('y:0')\n",
    "        loaded_keep_prob = loaded_graph.get_tensor_by_name('keep_prob:0')\n",
    "        loaded_logits = loaded_graph.get_tensor_by_name('logits:0')\n",
    "        loaded_acc = loaded_graph.get_tensor_by_name('accuracy:0')\n",
    "        \n",
    "        # Get accuracy in batches for memory limitations\n",
    "        test_batch_acc_total = 0\n",
    "        test_batch_count = 0\n",
    "        \n",
    "        for train_feature_batch, train_label_batch in helper.batch_features_labels(test_features, test_labels, batch_size):\n",
    "            test_batch_acc_total += sess.run(\n",
    "                loaded_acc,\n",
    "                feed_dict={loaded_x: train_feature_batch, loaded_y: train_label_batch, loaded_keep_prob: 1.0})\n",
    "            test_batch_count += 1\n",
    "\n",
    "        print('Testing Accuracy: {}\\n'.format(test_batch_acc_total/test_batch_count))\n",
    "\n",
    "        # Print Random Samples\n",
    "        random_test_features, random_test_labels = tuple(zip(*random.sample(list(zip(test_features, test_labels)), n_samples)))\n",
    "        random_test_predictions = sess.run(\n",
    "            tf.nn.top_k(tf.nn.softmax(loaded_logits), top_n_predictions),\n",
    "            feed_dict={loaded_x: random_test_features, loaded_y: random_test_labels, loaded_keep_prob: 1.0})\n",
    "        helper.display_image_predictions(random_test_features, random_test_labels, random_test_predictions)\n",
    "\n",
    "\n",
    "test_model()"
   ]
  },
  {
   "cell_type": "markdown",
   "metadata": {
    "deletable": true,
    "editable": true
   },
   "source": [
    "## Why 50-80% Accuracy?\n",
    "You might be wondering why you can't get an accuracy any higher. First things first, 50% isn't bad for a simple CNN.  Pure guessing would get you 10% accuracy. That's because there are many more techniques that can be applied to your model and we recemmond that once you are done with this project, you explore!\n",
    "\n",
    "## Submitting This Project\n",
    "When submitting this project, make sure to run all the cells before saving the notebook.  Save the notebook file as \"image_classification.ipynb\" and save it as a HTML file under \"File\" -> \"Download as\".  Include the \"helper.py\" and \"problem_unittests.py\" files in your submission."
   ]
  }
 ],
 "metadata": {
  "anaconda-cloud": {},
  "kernelspec": {
   "display_name": "Python 3",
   "language": "python",
   "name": "python3"
  },
  "language_info": {
   "codemirror_mode": {
    "name": "ipython",
    "version": 3
   },
   "file_extension": ".py",
   "mimetype": "text/x-python",
   "name": "python",
   "nbconvert_exporter": "python",
   "pygments_lexer": "ipython3",
   "version": "3.5.3"
  }
 },
 "nbformat": 4,
 "nbformat_minor": 0
}
