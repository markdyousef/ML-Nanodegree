{
 "cells": [
  {
   "cell_type": "markdown",
   "metadata": {
    "collapsed": true,
    "deletable": true,
    "editable": true
   },
   "source": [
    "# Image Classification\n",
    "In this project, you'll classify images from the [CIFAR-10 dataset](https://www.cs.toronto.edu/~kriz/cifar.html).  The dataset consists of airplanes, dogs, cats, and other objects. You'll preprocess the images, then train a convolutional neural network on all the samples. The images need to be normalized and the labels need to be one-hot encoded.  You'll get to apply what you learned and build a convolutional, max pooling, dropout, and fully connected layers.  At the end, you'll get to see your neural network's predictions on the sample images.\n",
    "## Get the Data\n",
    "Run the following cell to download the [CIFAR-10 dataset for python](https://www.cs.toronto.edu/~kriz/cifar-10-python.tar.gz)."
   ]
  },
  {
   "cell_type": "code",
   "execution_count": 1,
   "metadata": {
    "collapsed": false,
    "deletable": true,
    "editable": true
   },
   "outputs": [
    {
     "name": "stdout",
     "output_type": "stream",
     "text": [
      "All files found!\n"
     ]
    }
   ],
   "source": [
    "\"\"\"\n",
    "DON'T MODIFY ANYTHING IN THIS CELL THAT IS BELOW THIS LINE\n",
    "\"\"\"\n",
    "from urllib.request import urlretrieve\n",
    "from os.path import isfile, isdir\n",
    "from tqdm import tqdm\n",
    "import problem_unittests as tests\n",
    "import tarfile\n",
    "\n",
    "cifar10_dataset_folder_path = 'cifar-10-batches-py'\n",
    "\n",
    "class DLProgress(tqdm):\n",
    "    last_block = 0\n",
    "\n",
    "    def hook(self, block_num=1, block_size=1, total_size=None):\n",
    "        self.total = total_size\n",
    "        self.update((block_num - self.last_block) * block_size)\n",
    "        self.last_block = block_num\n",
    "\n",
    "if not isfile('cifar-10-python.tar.gz'):\n",
    "    with DLProgress(unit='B', unit_scale=True, miniters=1, desc='CIFAR-10 Dataset') as pbar:\n",
    "        urlretrieve(\n",
    "            'https://www.cs.toronto.edu/~kriz/cifar-10-python.tar.gz',\n",
    "            'cifar-10-python.tar.gz',\n",
    "            pbar.hook)\n",
    "\n",
    "if not isdir(cifar10_dataset_folder_path):\n",
    "    with tarfile.open('cifar-10-python.tar.gz') as tar:\n",
    "        tar.extractall()\n",
    "        tar.close()\n",
    "\n",
    "\n",
    "tests.test_folder_path(cifar10_dataset_folder_path)"
   ]
  },
  {
   "cell_type": "markdown",
   "metadata": {
    "deletable": true,
    "editable": true
   },
   "source": [
    "## Explore the Data\n",
    "The dataset is broken into batches to prevent your machine from running out of memory.  The CIFAR-10 dataset consists of 5 batches, named `data_batch_1`, `data_batch_2`, etc.. Each batch contains the labels and images that are one of the following:\n",
    "* airplane\n",
    "* automobile\n",
    "* bird\n",
    "* cat\n",
    "* deer\n",
    "* dog\n",
    "* frog\n",
    "* horse\n",
    "* ship\n",
    "* truck\n",
    "\n",
    "Understanding a dataset is part of making predictions on the data.  Play around with the code cell below by changing the `batch_id` and `sample_id`. The `batch_id` is the id for a batch (1-5). The `sample_id` is the id for a image and label pair in the batch.\n",
    "\n",
    "Ask yourself \"What are all possible labels?\", \"What is the range of values for the image data?\", \"Are the labels in order or random?\".  Answers to questions like these will help you preprocess the data and end up with better predictions."
   ]
  },
  {
   "cell_type": "code",
   "execution_count": 2,
   "metadata": {
    "collapsed": false,
    "deletable": true,
    "editable": true
   },
   "outputs": [
    {
     "name": "stdout",
     "output_type": "stream",
     "text": [
      "\n",
      "Stats of batch 1:\n",
      "Samples: 10000\n",
      "Label Counts: {0: 1005, 1: 974, 2: 1032, 3: 1016, 4: 999, 5: 937, 6: 1030, 7: 1001, 8: 1025, 9: 981}\n",
      "First 20 Labels: [6, 9, 9, 4, 1, 1, 2, 7, 8, 3, 4, 7, 7, 2, 9, 9, 9, 3, 2, 6]\n",
      "\n",
      "Example of Image 5:\n",
      "Image - Min Value: 0 Max Value: 252\n",
      "Image - Shape: (32, 32, 3)\n",
      "Label - Label Id: 1 Name: automobile\n"
     ]
    },
    {
     "data": {
      "image/png": "[encoded data removed]",
      "text/plain": [
       "<matplotlib.figure.Figure at 0x1140b55c0>"
      ]
     },
     "metadata": {
      "image/png": {
       "height": 250,
       "width": 253
      }
     },
     "output_type": "display_data"
    }
   ],
   "source": [
    "%matplotlib inline\n",
    "%config InlineBackend.figure_format = 'retina'\n",
    "\n",
    "import helper\n",
    "import numpy as np\n",
    "\n",
    "# Explore the dataset\n",
    "batch_id = 1\n",
    "sample_id = 5\n",
    "helper.display_stats(cifar10_dataset_folder_path, batch_id, sample_id)"
   ]
  },
  {
   "cell_type": "markdown",
   "metadata": {
    "deletable": true,
    "editable": true
   },
   "source": [
    "## Implement Preprocess Functions\n",
    "### Normalize\n",
    "In the cell below, implement the `normalize` function to take in image data, `x`, and return it as a normalized Numpy array. The values should be in the range of 0 to 1, inclusive.  The return object should be the same shape as `x`."
   ]
  },
  {
   "cell_type": "code",
   "execution_count": 3,
   "metadata": {
    "collapsed": false,
    "deletable": true,
    "editable": true
   },
   "outputs": [
    {
     "name": "stdout",
     "output_type": "stream",
     "text": [
      "Tests Passed\n"
     ]
    }
   ],
   "source": [
    "def normalize(x):\n",
    "    \"\"\"\n",
    "    Normalize a list of sample image data in the range of 0 to 1\n",
    "    : x: List of image data.  The image shape is (32, 32, 3)\n",
    "    : return: Numpy array of normalize data\n",
    "    \"\"\"\n",
    "    # TODO: Implement Function\n",
    "    import numpy as np\n",
    "    \n",
    "    normalized = (x - np.min(x)) / (np.max(x) - np.min(x))\n",
    "    \n",
    "    return normalized\n",
    "\n",
    "\n",
    "\"\"\"\n",
    "DON'T MODIFY ANYTHING IN THIS CELL THAT IS BELOW THIS LINE\n",
    "\"\"\"\n",
    "tests.test_normalize(normalize)"
   ]
  },
  {
   "cell_type": "markdown",
   "metadata": {
    "deletable": true,
    "editable": true
   },
   "source": [
    "### One-hot encode\n",
    "Just like the previous code cell, you'll be implementing a function for preprocessing.  This time, you'll implement the `one_hot_encode` function. The input, `x`, are a list of labels.  Implement the function to return the list of labels as One-Hot encoded Numpy array.  The possible values for labels are 0 to 9. The one-hot encoding function should return the same encoding for each value between each call to `one_hot_encode`.  Make sure to save the map of encodings outside the function.\n",
    "\n",
    "**Hint:**\n",
    "\n",
    "Look into LabelBinarizer in the preprocessing module of sklearn."
   ]
  },
  {
   "cell_type": "code",
   "execution_count": 4,
   "metadata": {
    "collapsed": false,
    "deletable": true,
    "editable": true
   },
   "outputs": [
    {
     "name": "stdout",
     "output_type": "stream",
     "text": [
      "Tests Passed\n"
     ]
    }
   ],
   "source": [
    "from sklearn import preprocessing\n",
    "encodings = list(range(0,10))\n",
    "def one_hot_encode(x):\n",
    "    \"\"\"\n",
    "    One hot encode a list of sample labels. Return a one-hot encoded vector for each label.\n",
    "    : x: List of sample Labels\n",
    "    : return: Numpy array of one-hot encoded labels\n",
    "    \"\"\"\n",
    "    # TODO: Implement Function\n",
    "    lb = preprocessing.LabelBinarizer()\n",
    "    lb.fit(encodings)\n",
    "    val = lb.transform(x)\n",
    "    return val\n",
    "\n",
    "\n",
    "\"\"\"\n",
    "DON'T MODIFY ANYTHING IN THIS CELL THAT IS BELOW THIS LINE\n",
    "\"\"\"\n",
    "tests.test_one_hot_encode(one_hot_encode)"
   ]
  },
  {
   "cell_type": "markdown",
   "metadata": {
    "deletable": true,
    "editable": true
   },
   "source": [
    "### Randomize Data\n",
    "As you saw from exploring the data above, the order of the samples are randomized.  It doesn't hurt to randomize it again, but you don't need to for this dataset."
   ]
  },
  {
   "cell_type": "markdown",
   "metadata": {
    "deletable": true,
    "editable": true
   },
   "source": [
    "## Preprocess all the data and save it\n",
    "Running the code cell below will preprocess all the CIFAR-10 data and save it to file. The code below also uses 10% of the training data for validation."
   ]
  },
  {
   "cell_type": "code",
   "execution_count": 5,
   "metadata": {
    "collapsed": false,
    "deletable": true,
    "editable": true
   },
   "outputs": [],
   "source": [
    "\"\"\"\n",
    "DON'T MODIFY ANYTHING IN THIS CELL\n",
    "\"\"\"\n",
    "# Preprocess Training, Validation, and Testing Data\n",
    "helper.preprocess_and_save_data(cifar10_dataset_folder_path, normalize, one_hot_encode)"
   ]
  },
  {
   "cell_type": "markdown",
   "metadata": {
    "deletable": true,
    "editable": true
   },
   "source": [
    "# Check Point\n",
    "This is your first checkpoint.  If you ever decide to come back to this notebook or have to restart the notebook, you can start from here.  The preprocessed data has been saved to disk."
   ]
  },
  {
   "cell_type": "code",
   "execution_count": 6,
   "metadata": {
    "collapsed": true,
    "deletable": true,
    "editable": true
   },
   "outputs": [],
   "source": [
    "\"\"\"\n",
    "DON'T MODIFY ANYTHING IN THIS CELL\n",
    "\"\"\"\n",
    "import pickle\n",
    "import problem_unittests as tests\n",
    "import helper\n",
    "\n",
    "# Load the Preprocessed Validation data\n",
    "valid_features, valid_labels = pickle.load(open('preprocess_validation.p', mode='rb'))"
   ]
  },
  {
   "cell_type": "markdown",
   "metadata": {
    "deletable": true,
    "editable": true
   },
   "source": [
    "## Build the network\n",
    "For the neural network, you'll build each layer into a function.  Most of the code you've seen has been outside of functions. To test your code more thoroughly, we require that you put each layer in a function.  This allows us to give you better feedback and test for simple mistakes using our unittests before you submit your project.\n",
    "\n",
    ">**Note:** If you're finding it hard to dedicate enough time for this course each week, we've provided a small shortcut to this part of the project. In the next couple of problems, you'll have the option to use classes from the [TensorFlow Layers](https://www.tensorflow.org/api_docs/python/tf/layers) or [TensorFlow Layers (contrib)](https://www.tensorflow.org/api_guides/python/contrib.layers) packages to build each layer, except the layers you build in the \"Convolutional and Max Pooling Layer\" section.  TF Layers is similar to Keras's and TFLearn's abstraction to layers, so it's easy to pickup.\n",
    "\n",
    ">However, if you would like to get the most out of this course, try to solve all the problems _without_ using anything from the TF Layers packages. You **can** still use classes from other packages that happen to have the same name as ones you find in TF Layers! For example, instead of using the TF Layers version of the `conv2d` class, [tf.layers.conv2d](https://www.tensorflow.org/api_docs/python/tf/layers/conv2d), you would want to use the TF Neural Network version of `conv2d`, [tf.nn.conv2d](https://www.tensorflow.org/api_docs/python/tf/nn/conv2d). \n",
    "\n",
    "Let's begin!\n",
    "\n",
    "### Input\n",
    "The neural network needs to read the image data, one-hot encoded labels, and dropout keep probability. Implement the following functions\n",
    "* Implement `neural_net_image_input`\n",
    " * Return a [TF Placeholder](https://www.tensorflow.org/api_docs/python/tf/placeholder)\n",
    " * Set the shape using `image_shape` with batch size set to `None`.\n",
    " * Name the TensorFlow placeholder \"x\" using the TensorFlow `name` parameter in the [TF Placeholder](https://www.tensorflow.org/api_docs/python/tf/placeholder).\n",
    "* Implement `neural_net_label_input`\n",
    " * Return a [TF Placeholder](https://www.tensorflow.org/api_docs/python/tf/placeholder)\n",
    " * Set the shape using `n_classes` with batch size set to `None`.\n",
    " * Name the TensorFlow placeholder \"y\" using the TensorFlow `name` parameter in the [TF Placeholder](https://www.tensorflow.org/api_docs/python/tf/placeholder).\n",
    "* Implement `neural_net_keep_prob_input`\n",
    " * Return a [TF Placeholder](https://www.tensorflow.org/api_docs/python/tf/placeholder) for dropout keep probability.\n",
    " * Name the TensorFlow placeholder \"keep_prob\" using the TensorFlow `name` parameter in the [TF Placeholder](https://www.tensorflow.org/api_docs/python/tf/placeholder).\n",
    "\n",
    "These names will be used at the end of the project to load your saved model.\n",
    "\n",
    "Note: `None` for shapes in TensorFlow allow for a dynamic size."
   ]
  },
  {
   "cell_type": "code",
   "execution_count": 7,
   "metadata": {
    "collapsed": false,
    "deletable": true,
    "editable": true
   },
   "outputs": [
    {
     "name": "stdout",
     "output_type": "stream",
     "text": [
      "Image Input Tests Passed.\n",
      "Label Input Tests Passed.\n",
      "Keep Prob Tests Passed.\n"
     ]
    }
   ],
   "source": [
    "import tensorflow as tf\n",
    "\n",
    "def neural_net_image_input(image_shape):\n",
    "    \"\"\"\n",
    "    Return a Tensor for a batch of image input\n",
    "    : image_shape: Shape of the images\n",
    "    : return: Tensor for image input.\n",
    "    \"\"\"\n",
    "    # TODO: Implement Function\n",
    "    shape = list(image_shape)\n",
    "    shape.insert(0, None)\n",
    "    return tf.placeholder(tf.float32, shape=shape, name=\"x\")\n",
    "\n",
    "\n",
    "def neural_net_label_input(n_classes):\n",
    "    \"\"\"\n",
    "    Return a Tensor for a batch of label input\n",
    "    : n_classes: Number of classes\n",
    "    : return: Tensor for label input.\n",
    "    \"\"\"\n",
    "    # TODO: Implement Function\n",
    "    return tf.placeholder(tf.float32, shape=[None, n_classes], name=\"y\")\n",
    "\n",
    "\n",
    "def neural_net_keep_prob_input():\n",
    "    \"\"\"\n",
    "    Return a Tensor for keep probability\n",
    "    : return: Tensor for keep probability.\n",
    "    \"\"\"\n",
    "    # TODO: Implement Function\n",
    "    return tf.placeholder(tf.float32, shape=None, name=\"keep_prob\")\n",
    "\n",
    "\n",
    "\"\"\"\n",
    "DON'T MODIFY ANYTHING IN THIS CELL THAT IS BELOW THIS LINE\n",
    "\"\"\"\n",
    "tf.reset_default_graph()\n",
    "tests.test_nn_image_inputs(neural_net_image_input)\n",
    "tests.test_nn_label_inputs(neural_net_label_input)\n",
    "tests.test_nn_keep_prob_inputs(neural_net_keep_prob_input)"
   ]
  },
  {
   "cell_type": "markdown",
   "metadata": {
    "deletable": true,
    "editable": true
   },
   "source": [
    "### Convolution and Max Pooling Layer\n",
    "Convolution layers have a lot of success with images. For this code cell, you should implement the function `conv2d_maxpool` to apply convolution then max pooling:\n",
    "* Create the weight and bias using `conv_ksize`, `conv_num_outputs` and the shape of `x_tensor`.\n",
    "* Apply a convolution to `x_tensor` using weight and `conv_strides`.\n",
    " * We recommend you use same padding, but you're welcome to use any padding.\n",
    "* Add bias\n",
    "* Add a nonlinear activation to the convolution.\n",
    "* Apply Max Pooling using `pool_ksize` and `pool_strides`.\n",
    " * We recommend you use same padding, but you're welcome to use any padding.\n",
    "\n",
    "**Note:** You **can't** use [TensorFlow Layers](https://www.tensorflow.org/api_docs/python/tf/layers) or [TensorFlow Layers (contrib)](https://www.tensorflow.org/api_guides/python/contrib.layers) for **this** layer, but you can still use TensorFlow's [Neural Network](https://www.tensorflow.org/api_docs/python/tf/nn) package. You may still use the shortcut option for all the **other** layers.\n",
    "\n",
    "** Hint: **\n",
    "\n",
    "When unpacking values as an argument in Python, look into the [unpacking](https://docs.python.org/3/tutorial/controlflow.html#unpacking-argument-lists) operator. "
   ]
  },
  {
   "cell_type": "code",
   "execution_count": 11,
   "metadata": {
    "collapsed": false,
    "deletable": true,
    "editable": true
   },
   "outputs": [
    {
     "name": "stdout",
     "output_type": "stream",
     "text": [
      "Tests Passed\n"
     ]
    }
   ],
   "source": [
    "def conv2d_maxpool(x_tensor, conv_num_outputs, conv_ksize, conv_strides, pool_ksize, pool_strides):\n",
    "    \"\"\"\n",
    "    Apply convolution then max pooling to x_tensor\n",
    "    :param x_tensor: TensorFlow Tensor\n",
    "    :param conv_num_outputs: Number of outputs for the convolutional layer\n",
    "    :param conv_ksize: kernal size 2-D Tuple for the convolutional layer\n",
    "    :param conv_strides: Stride 2-D Tuple for convolution\n",
    "    :param pool_ksize: kernal size 2-D Tuple for pool\n",
    "    :param pool_strides: Stride 2-D Tuple for pool\n",
    "    : return: A tensor that represents convolution and max pooling of x_tensor\n",
    "    \"\"\"\n",
    "    # TODO: Implement Function\n",
    "    input_shape = x_tensor.shape\n",
    "    k_height = conv_ksize[0]\n",
    "    k_width = conv_ksize[1]\n",
    "    input_dim = int(input_shape[3])\n",
    "    output_dim = conv_num_outputs\n",
    "    # create weight and bias\n",
    "    W = tf.Variable(\n",
    "        tf.random_normal([k_height, k_width, input_dim, output_dim]),\n",
    "        name=\"Weight\"\n",
    "    )\n",
    "    b = tf.Variable(tf.zeros(output_dim), name=\"bias\")\n",
    "    \n",
    "    # apply convolution using weight and conv_strides\n",
    "    s_height = conv_strides[0]\n",
    "    s_width = conv_strides[1]\n",
    "    strides = [1, s_height, s_width, 1]\n",
    "    x = tf.nn.conv2d(x_tensor, W, strides, 'SAME')\n",
    "    \n",
    "    #add bias\n",
    "    x = x + b\n",
    "    \n",
    "    #add a non-linear activation\n",
    "    x = tf.nn.relu(x)\n",
    "    \n",
    "    #apply Max Pooling\n",
    "    k_height = pool_ksize[0]\n",
    "    k_width = pool_ksize[1]\n",
    "    s_height = pool_strides[0]\n",
    "    s_width = pool_strides[1]\n",
    "    k_size = [1, k_height, k_width, 1]\n",
    "    strides = [1, s_height, s_width, 1]\n",
    "    \n",
    "    return tf.nn.max_pool(x, k_size, strides, 'SAME') \n",
    "\n",
    "\n",
    "\"\"\"\n",
    "DON'T MODIFY ANYTHING IN THIS CELL THAT IS BELOW THIS LINE\n",
    "\"\"\"\n",
    "tests.test_con_pool(conv2d_maxpool)"
   ]
  },
  {
   "cell_type": "markdown",
   "metadata": {
    "deletable": true,
    "editable": true
   },
   "source": [
    "### Flatten Layer\n",
    "Implement the `flatten` function to change the dimension of `x_tensor` from a 4-D tensor to a 2-D tensor.  The output should be the shape (*Batch Size*, *Flattened Image Size*). Shortcut option: you can use classes from the [TensorFlow Layers](https://www.tensorflow.org/api_docs/python/tf/layers) or [TensorFlow Layers (contrib)](https://www.tensorflow.org/api_guides/python/contrib.layers) packages for this layer. For more of a challenge, only use other TensorFlow packages."
   ]
  },
  {
   "cell_type": "code",
   "execution_count": 12,
   "metadata": {
    "collapsed": false,
    "deletable": true,
    "editable": true
   },
   "outputs": [
    {
     "name": "stdout",
     "output_type": "stream",
     "text": [
      "Tests Passed\n"
     ]
    }
   ],
   "source": [
    "def flatten(x_tensor):\n",
    "    \"\"\"\n",
    "    Flatten x_tensor to (Batch Size, Flattened Image Size)\n",
    "    : x_tensor: A tensor of size (Batch Size, ...), where ... are the image dimensions.\n",
    "    : return: A tensor of size (Batch Size, Flattened Image Size).\n",
    "    \"\"\"\n",
    "    # TODO: Implement Function\n",
    "    return tf.contrib.layers.flatten(x_tensor)\n",
    "\n",
    "\n",
    "\"\"\"\n",
    "DON'T MODIFY ANYTHING IN THIS CELL THAT IS BELOW THIS LINE\n",
    "\"\"\"\n",
    "tests.test_flatten(flatten)"
   ]
  },
  {
   "cell_type": "markdown",
   "metadata": {
    "deletable": true,
    "editable": true
   },
   "source": [
    "### Fully-Connected Layer\n",
    "Implement the `fully_conn` function to apply a fully connected layer to `x_tensor` with the shape (*Batch Size*, *num_outputs*). Shortcut option: you can use classes from the [TensorFlow Layers](https://www.tensorflow.org/api_docs/python/tf/layers) or [TensorFlow Layers (contrib)](https://www.tensorflow.org/api_guides/python/contrib.layers) packages for this layer. For more of a challenge, only use other TensorFlow packages."
   ]
  },
  {
   "cell_type": "code",
   "execution_count": 13,
   "metadata": {
    "collapsed": false,
    "deletable": true,
    "editable": true
   },
   "outputs": [
    {
     "name": "stdout",
     "output_type": "stream",
     "text": [
      "Tests Passed\n"
     ]
    }
   ],
   "source": [
    "def fully_conn(x_tensor, num_outputs):\n",
    "    \"\"\"\n",
    "    Apply a fully connected layer to x_tensor using weight and bias\n",
    "    : x_tensor: A 2-D tensor where the first dimension is batch size.\n",
    "    : num_outputs: The number of output that the new tensor should be.\n",
    "    : return: A 2-D tensor where the second dimension is num_outputs.\n",
    "    \"\"\"\n",
    "    # TODO: Implement Function\n",
    "    return tf.contrib.layers.fully_connected(x_tensor, num_outputs, activation_fn=None)\n",
    "\n",
    "\n",
    "\"\"\"\n",
    "DON'T MODIFY ANYTHING IN THIS CELL THAT IS BELOW THIS LINE\n",
    "\"\"\"\n",
    "tests.test_fully_conn(fully_conn)"
   ]
  },
  {
   "cell_type": "markdown",
   "metadata": {
    "deletable": true,
    "editable": true
   },
   "source": [
    "### Output Layer\n",
    "Implement the `output` function to apply a fully connected layer to `x_tensor` with the shape (*Batch Size*, *num_outputs*). Shortcut option: you can use classes from the [TensorFlow Layers](https://www.tensorflow.org/api_docs/python/tf/layers) or [TensorFlow Layers (contrib)](https://www.tensorflow.org/api_guides/python/contrib.layers) packages for this layer. For more of a challenge, only use other TensorFlow packages.\n",
    "\n",
    "**Note:** Activation, softmax, or cross entropy should **not** be applied to this."
   ]
  },
  {
   "cell_type": "code",
   "execution_count": 14,
   "metadata": {
    "collapsed": false,
    "deletable": true,
    "editable": true
   },
   "outputs": [
    {
     "name": "stdout",
     "output_type": "stream",
     "text": [
      "Tests Passed\n"
     ]
    }
   ],
   "source": [
    "def output(x_tensor, num_outputs):\n",
    "    \"\"\"\n",
    "    Apply a output layer to x_tensor using weight and bias\n",
    "    : x_tensor: A 2-D tensor where the first dimension is batch size.\n",
    "    : num_outputs: The number of output that the new tensor should be.\n",
    "    : return: A 2-D tensor where the second dimension is num_outputs.\n",
    "    \"\"\"\n",
    "    # TODO: Implement Function\n",
    "    return tf.contrib.layers.fully_connected(x_tensor, num_outputs, activation_fn=None)\n",
    "\n",
    "\n",
    "\"\"\"\n",
    "DON'T MODIFY ANYTHING IN THIS CELL THAT IS BELOW THIS LINE\n",
    "\"\"\"\n",
    "tests.test_output(output)"
   ]
  },
  {
   "cell_type": "markdown",
   "metadata": {
    "deletable": true,
    "editable": true
   },
   "source": [
    "### Create Convolutional Model\n",
    "Implement the function `conv_net` to create a convolutional neural network model. The function takes in a batch of images, `x`, and outputs logits.  Use the layers you created above to create this model:\n",
    "\n",
    "* Apply 1, 2, or 3 Convolution and Max Pool layers\n",
    "* Apply a Flatten Layer\n",
    "* Apply 1, 2, or 3 Fully Connected Layers\n",
    "* Apply an Output Layer\n",
    "* Return the output\n",
    "* Apply [TensorFlow's Dropout](https://www.tensorflow.org/api_docs/python/tf/nn/dropout) to one or more layers in the model using `keep_prob`. "
   ]
  },
  {
   "cell_type": "code",
   "execution_count": 15,
   "metadata": {
    "collapsed": false,
    "deletable": true,
    "editable": true
   },
   "outputs": [
    {
     "name": "stdout",
     "output_type": "stream",
     "text": [
      "Neural Network Built!\n"
     ]
    }
   ],
   "source": [
    "def conv_net(x, keep_prob):\n",
    "    \"\"\"\n",
    "    Create a convolutional neural network model\n",
    "    : x: Placeholder tensor that holds image data.\n",
    "    : keep_prob: Placeholder tensor that hold dropout keep probability.\n",
    "    : return: Tensor that represents logits\n",
    "    \"\"\"\n",
    "    # TODO: Apply 1, 2, or 3 Convolution and Max Pool layers\n",
    "    #    Play around with different number of outputs, kernel size and stride\n",
    "    # Function Definition from Above:\n",
    "    #    conv2d_maxpool(x_tensor, conv_num_outputs, conv_ksize, conv_strides, pool_ksize, pool_strides)\n",
    "    conv_ksize = (3, 3)\n",
    "    conv_strides = (1, 1)\n",
    "    pool_ksize = (2, 2)\n",
    "    pool_strides = (2, 2)\n",
    "    \n",
    "    x = conv2d_maxpool(\n",
    "        x, 10, conv_ksize, conv_strides, pool_ksize, pool_strides)\n",
    "    # dropout\n",
    "    x = tf.nn.dropout(x, keep_prob)\n",
    "    x = conv2d_maxpool(\n",
    "        x, 10, conv_ksize, conv_strides, pool_ksize, pool_strides)\n",
    "    # dropout\n",
    "    x = tf.nn.dropout(x, keep_prob)\n",
    "    x = conv2d_maxpool(\n",
    "        x, 10, conv_ksize, conv_strides, pool_ksize, pool_strides)\n",
    "    \n",
    "    \n",
    "\n",
    "    # TODO: Apply a Flatten Layer\n",
    "    # Function Definition from Above:\n",
    "    #   flatten(x_tensor)\n",
    "    x = flatten(x)\n",
    "    \n",
    "\n",
    "    # TODO: Apply 1, 2, or 3 Fully Connected Layers\n",
    "    #    Play around with different number of outputs\n",
    "    # Function Definition from Above:\n",
    "    #   fully_conn(x_tensor, num_outputs)\n",
    "    x = fully_conn(x, 40)\n",
    "    x = fully_conn(x, 40)\n",
    "    x = fully_conn(x, 40)\n",
    "    \n",
    "    \n",
    "    # TODO: Apply an Output Layer\n",
    "    #    Set this to the number of classes\n",
    "    # Function Definition from Above:\n",
    "    #   output(x_tensor, num_outputs)\n",
    "    x = output(x, 10)\n",
    "    \n",
    "    \n",
    "    # TODO: return output\n",
    "    return x\n",
    "\n",
    "\n",
    "\"\"\"\n",
    "DON'T MODIFY ANYTHING IN THIS CELL THAT IS BELOW THIS LINE\n",
    "\"\"\"\n",
    "\n",
    "##############################\n",
    "## Build the Neural Network ##\n",
    "##############################\n",
    "\n",
    "# Remove previous weights, bias, inputs, etc..\n",
    "tf.reset_default_graph()\n",
    "\n",
    "# Inputs\n",
    "x = neural_net_image_input((32, 32, 3))\n",
    "y = neural_net_label_input(10)\n",
    "keep_prob = neural_net_keep_prob_input()\n",
    "\n",
    "# Model\n",
    "logits = conv_net(x, keep_prob)\n",
    "\n",
    "# Name logits Tensor, so that is can be loaded from disk after training\n",
    "logits = tf.identity(logits, name='logits')\n",
    "\n",
    "# Loss and Optimizer\n",
    "cost = tf.reduce_mean(tf.nn.softmax_cross_entropy_with_logits(logits=logits, labels=y))\n",
    "optimizer = tf.train.AdamOptimizer().minimize(cost)\n",
    "\n",
    "# Accuracy\n",
    "correct_pred = tf.equal(tf.argmax(logits, 1), tf.argmax(y, 1))\n",
    "accuracy = tf.reduce_mean(tf.cast(correct_pred, tf.float32), name='accuracy')\n",
    "\n",
    "tests.test_conv_net(conv_net)"
   ]
  },
  {
   "cell_type": "markdown",
   "metadata": {
    "deletable": true,
    "editable": true
   },
   "source": [
    "## Train the Neural Network\n",
    "### Single Optimization\n",
    "Implement the function `train_neural_network` to do a single optimization.  The optimization should use `optimizer` to optimize in `session` with a `feed_dict` of the following:\n",
    "* `x` for image input\n",
    "* `y` for labels\n",
    "* `keep_prob` for keep probability for dropout\n",
    "\n",
    "This function will be called for each batch, so `tf.global_variables_initializer()` has already been called.\n",
    "\n",
    "Note: Nothing needs to be returned. This function is only optimizing the neural network."
   ]
  },
  {
   "cell_type": "code",
   "execution_count": 16,
   "metadata": {
    "collapsed": false,
    "deletable": true,
    "editable": true
   },
   "outputs": [
    {
     "name": "stdout",
     "output_type": "stream",
     "text": [
      "Tests Passed\n"
     ]
    }
   ],
   "source": [
    "def train_neural_network(session, optimizer, keep_probability, feature_batch, label_batch):\n",
    "    \"\"\"\n",
    "    Optimize the session on a batch of images and labels\n",
    "    : session: Current TensorFlow session\n",
    "    : optimizer: TensorFlow optimizer function\n",
    "    : keep_probability: keep probability\n",
    "    : feature_batch: Batch of Numpy image data\n",
    "    : label_batch: Batch of Numpy label data\n",
    "    \"\"\"\n",
    "    # TODO: Implement Function\n",
    "    feed_dict = {\n",
    "        x: feature_batch,\n",
    "        y: label_batch,\n",
    "        keep_prob: keep_probability\n",
    "    }\n",
    "    session.run(optimizer, feed_dict)\n",
    "    pass\n",
    "\n",
    "\n",
    "\"\"\"\n",
    "DON'T MODIFY ANYTHING IN THIS CELL THAT IS BELOW THIS LINE\n",
    "\"\"\"\n",
    "tests.test_train_nn(train_neural_network)"
   ]
  },
  {
   "cell_type": "markdown",
   "metadata": {
    "deletable": true,
    "editable": true
   },
   "source": [
    "### Show Stats\n",
    "Implement the function `print_stats` to print loss and validation accuracy.  Use the global variables `valid_features` and `valid_labels` to calculate validation accuracy.  Use a keep probability of `1.0` to calculate the loss and validation accuracy."
   ]
  },
  {
   "cell_type": "code",
   "execution_count": 17,
   "metadata": {
    "collapsed": false,
    "deletable": true,
    "editable": true
   },
   "outputs": [],
   "source": [
    "def print_stats(session, feature_batch, label_batch, cost, accuracy):\n",
    "    \"\"\"\n",
    "    Print information about loss and validation accuracy\n",
    "    : session: Current TensorFlow session\n",
    "    : feature_batch: Batch of Numpy image data\n",
    "    : label_batch: Batch of Numpy label data\n",
    "    : cost: TensorFlow cost function\n",
    "    : accuracy: TensorFlow accuracy function\n",
    "    \"\"\"\n",
    "    # TODO: Implement Function\n",
    "    feed_dict = {\n",
    "        x: feature_batch,\n",
    "        y: label_batch,\n",
    "        keep_prob: 1.0\n",
    "    }\n",
    "    loss = session.run(cost, feed_dict)\n",
    "    validation = session.run(\n",
    "        accuracy,\n",
    "        feed_dict={\n",
    "            x: valid_features,\n",
    "            y: valid_labels,\n",
    "            keep_prob: 1.0\n",
    "        })\n",
    "    print('loss: {}, validation: {}'.format(loss, validation))\n",
    "    pass"
   ]
  },
  {
   "cell_type": "markdown",
   "metadata": {
    "deletable": true,
    "editable": true
   },
   "source": [
    "### Hyperparameters\n",
    "Tune the following parameters:\n",
    "* Set `epochs` to the number of iterations until the network stops learning or start overfitting\n",
    "* Set `batch_size` to the highest number that your machine has memory for.  Most people set them to common sizes of memory:\n",
    " * 64\n",
    " * 128\n",
    " * 256\n",
    " * ...\n",
    "* Set `keep_probability` to the probability of keeping a node using dropout"
   ]
  },
  {
   "cell_type": "code",
   "execution_count": 18,
   "metadata": {
    "collapsed": true,
    "deletable": true,
    "editable": true
   },
   "outputs": [],
   "source": [
    "# TODO: Tune Parameters\n",
    "epochs = 50\n",
    "batch_size = 64\n",
    "keep_probability = 0.70"
   ]
  },
  {
   "cell_type": "markdown",
   "metadata": {
    "deletable": true,
    "editable": true
   },
   "source": [
    "### Train on a Single CIFAR-10 Batch\n",
    "Instead of training the neural network on all the CIFAR-10 batches of data, let's use a single batch. This should save time while you iterate on the model to get a better accuracy.  Once the final validation accuracy is 50% or greater, run the model on all the data in the next section."
   ]
  },
  {
   "cell_type": "code",
   "execution_count": 16,
   "metadata": {
    "collapsed": false,
    "deletable": true,
    "editable": true
   },
   "outputs": [
    {
     "name": "stdout",
     "output_type": "stream",
     "text": [
      "Checking the Training on a Single Batch...\n",
      "Epoch  1, CIFAR-10 Batch 1:  loss: 2.442965507507324, validation: 0.10220000147819519\n",
      "Epoch  2, CIFAR-10 Batch 1:  loss: 2.3483903408050537, validation: 0.10679999738931656\n",
      "Epoch  3, CIFAR-10 Batch 1:  loss: 2.335911273956299, validation: 0.10639999806880951\n",
      "Epoch  4, CIFAR-10 Batch 1:  loss: 2.3251101970672607, validation: 0.10440000146627426\n",
      "Epoch  5, CIFAR-10 Batch 1:  loss: 2.3248963356018066, validation: 0.0997999981045723\n",
      "Epoch  6, CIFAR-10 Batch 1:  loss: 2.3264987468719482, validation: 0.10119999945163727\n",
      "Epoch  7, CIFAR-10 Batch 1:  loss: 2.3217461109161377, validation: 0.10339999943971634\n",
      "Epoch  8, CIFAR-10 Batch 1:  loss: 2.3213047981262207, validation: 0.10279999673366547\n",
      "Epoch  9, CIFAR-10 Batch 1:  loss: 2.3188178539276123, validation: 0.10220000147819519\n",
      "Epoch 10, CIFAR-10 Batch 1:  loss: 2.3198792934417725, validation: 0.10100000351667404\n",
      "Epoch 11, CIFAR-10 Batch 1:  loss: 2.3202996253967285, validation: 0.10220000147819519\n",
      "Epoch 12, CIFAR-10 Batch 1:  loss: 2.31915545463562, validation: 0.10040000081062317\n",
      "Epoch 13, CIFAR-10 Batch 1:  loss: 2.310612916946411, validation: 0.10360000282526016\n",
      "Epoch 14, CIFAR-10 Batch 1:  loss: 2.3066344261169434, validation: 0.10320000350475311\n",
      "Epoch 15, CIFAR-10 Batch 1:  loss: 2.3079910278320312, validation: 0.10019999742507935\n",
      "Epoch 16, CIFAR-10 Batch 1:  loss: 2.3078501224517822, validation: 0.10000000149011612\n",
      "Epoch 17, CIFAR-10 Batch 1:  loss: 2.3071799278259277, validation: 0.10040000081062317\n",
      "Epoch 18, CIFAR-10 Batch 1:  loss: 2.3072454929351807, validation: 0.10100000351667404\n",
      "Epoch 19, CIFAR-10 Batch 1:  loss: 2.308009624481201, validation: 0.10100000351667404\n",
      "Epoch 20, CIFAR-10 Batch 1:  loss: 2.30920672416687, validation: 0.10080000013113022\n",
      "Epoch 21, CIFAR-10 Batch 1:  loss: 2.3070263862609863, validation: 0.1005999967455864\n",
      "Epoch 22, CIFAR-10 Batch 1:  loss: 2.3064866065979004, validation: 0.0997999981045723\n",
      "Epoch 23, CIFAR-10 Batch 1:  loss: 2.3067378997802734, validation: 0.1005999967455864\n",
      "Epoch 24, CIFAR-10 Batch 1:  loss: 2.306001663208008, validation: 0.10159999877214432\n",
      "Epoch 25, CIFAR-10 Batch 1:  loss: 2.2980425357818604, validation: 0.10999999940395355\n",
      "Epoch 26, CIFAR-10 Batch 1:  loss: 2.3050613403320312, validation: 0.10080000013113022\n",
      "Epoch 27, CIFAR-10 Batch 1:  loss: 2.305269479751587, validation: 0.10159999877214432\n",
      "Epoch 28, CIFAR-10 Batch 1:  loss: 2.2857120037078857, validation: 0.10520000010728836\n",
      "Epoch 29, CIFAR-10 Batch 1:  loss: 2.2733664512634277, validation: 0.11140000075101852\n",
      "Epoch 30, CIFAR-10 Batch 1:  loss: 2.255253314971924, validation: 0.13760000467300415\n",
      "Epoch 31, CIFAR-10 Batch 1:  loss: 2.241487979888916, validation: 0.14079999923706055\n",
      "Epoch 32, CIFAR-10 Batch 1:  loss: 2.257596492767334, validation: 0.14800000190734863\n",
      "Epoch 33, CIFAR-10 Batch 1:  loss: 2.225191593170166, validation: 0.15440000593662262\n",
      "Epoch 34, CIFAR-10 Batch 1:  loss: 2.1889357566833496, validation: 0.17319999635219574\n",
      "Epoch 35, CIFAR-10 Batch 1:  loss: 2.155799150466919, validation: 0.17659999430179596\n",
      "Epoch 36, CIFAR-10 Batch 1:  loss: 2.1673789024353027, validation: 0.16840000450611115\n",
      "Epoch 37, CIFAR-10 Batch 1:  loss: 2.1185436248779297, validation: 0.18320000171661377\n",
      "Epoch 38, CIFAR-10 Batch 1:  loss: 2.1461141109466553, validation: 0.17100000381469727\n",
      "Epoch 39, CIFAR-10 Batch 1:  loss: 2.1422648429870605, validation: 0.18080000579357147\n",
      "Epoch 40, CIFAR-10 Batch 1:  loss: 2.1548287868499756, validation: 0.18199999630451202\n",
      "Epoch 41, CIFAR-10 Batch 1:  loss: 2.161787748336792, validation: 0.18379999697208405\n",
      "Epoch 42, CIFAR-10 Batch 1:  loss: 2.1461453437805176, validation: 0.19220000505447388\n",
      "Epoch 43, CIFAR-10 Batch 1:  loss: 2.157832145690918, validation: 0.18979999423027039\n",
      "Epoch 44, CIFAR-10 Batch 1:  loss: 2.109849214553833, validation: 0.1858000010251999\n",
      "Epoch 45, CIFAR-10 Batch 1:  loss: 2.0963306427001953, validation: 0.19699999690055847\n",
      "Epoch 46, CIFAR-10 Batch 1:  loss: 2.1300864219665527, validation: 0.20600000023841858\n",
      "Epoch 47, CIFAR-10 Batch 1:  loss: 2.129711866378784, validation: 0.19900000095367432\n",
      "Epoch 48, CIFAR-10 Batch 1:  loss: 2.139834403991699, validation: 0.19200000166893005\n",
      "Epoch 49, CIFAR-10 Batch 1:  loss: 2.1265811920166016, validation: 0.19480000436306\n",
      "Epoch 50, CIFAR-10 Batch 1:  loss: 2.0674705505371094, validation: 0.20600000023841858\n"
     ]
    }
   ],
   "source": [
    "\"\"\"\n",
    "DON'T MODIFY ANYTHING IN THIS CELL\n",
    "\"\"\"\n",
    "print('Checking the Training on a Single Batch...')\n",
    "with tf.Session() as sess:\n",
    "    # Initializing the variables\n",
    "    sess.run(tf.global_variables_initializer())\n",
    "    \n",
    "    # Training cycle\n",
    "    for epoch in range(epochs):\n",
    "        batch_i = 1\n",
    "        for batch_features, batch_labels in helper.load_preprocess_training_batch(batch_i, batch_size):\n",
    "            train_neural_network(sess, optimizer, keep_probability, batch_features, batch_labels)\n",
    "        print('Epoch {:>2}, CIFAR-10 Batch {}:  '.format(epoch + 1, batch_i), end='')\n",
    "        print_stats(sess, batch_features, batch_labels, cost, accuracy)"
   ]
  },
  {
   "cell_type": "markdown",
   "metadata": {
    "deletable": true,
    "editable": true
   },
   "source": [
    "### Fully Train the Model\n",
    "Now that you got a good accuracy with a single CIFAR-10 batch, try it with all five batches."
   ]
  },
  {
   "cell_type": "code",
   "execution_count": 19,
   "metadata": {
    "collapsed": false,
    "deletable": true,
    "editable": true
   },
   "outputs": [
    {
     "name": "stdout",
     "output_type": "stream",
     "text": [
      "Training...\n",
      "Epoch  1, CIFAR-10 Batch 1:  loss: 7.034671783447266, validation: 0.16779999434947968\n",
      "Epoch  1, CIFAR-10 Batch 2:  loss: 2.763758659362793, validation: 0.18359999358654022\n",
      "Epoch  1, CIFAR-10 Batch 3:  loss: 2.353726625442505, validation: 0.2037999927997589\n",
      "Epoch  1, CIFAR-10 Batch 4:  loss: 2.072580575942993, validation: 0.20419999957084656\n",
      "Epoch  1, CIFAR-10 Batch 5:  loss: 2.2350716590881348, validation: 0.2003999948501587\n",
      "Epoch  2, CIFAR-10 Batch 1:  loss: 2.1682469844818115, validation: 0.20739999413490295\n",
      "Epoch  2, CIFAR-10 Batch 2:  loss: 2.119904041290283, validation: 0.2093999981880188\n",
      "Epoch  2, CIFAR-10 Batch 3:  loss: 2.0733389854431152, validation: 0.23440000414848328\n",
      "Epoch  2, CIFAR-10 Batch 4:  loss: 2.028456211090088, validation: 0.2168000042438507\n",
      "Epoch  2, CIFAR-10 Batch 5:  loss: 2.1699576377868652, validation: 0.22040000557899475\n",
      "Epoch  3, CIFAR-10 Batch 1:  loss: 2.0790913105010986, validation: 0.21780000627040863\n",
      "Epoch  3, CIFAR-10 Batch 2:  loss: 2.1074862480163574, validation: 0.2362000048160553\n",
      "Epoch  3, CIFAR-10 Batch 3:  loss: 2.0009243488311768, validation: 0.21780000627040863\n",
      "Epoch  3, CIFAR-10 Batch 4:  loss: 2.0007052421569824, validation: 0.21140000224113464\n",
      "Epoch  3, CIFAR-10 Batch 5:  loss: 2.0649471282958984, validation: 0.2305999994277954\n",
      "Epoch  4, CIFAR-10 Batch 1:  loss: 2.1523633003234863, validation: 0.2199999988079071\n",
      "Epoch  4, CIFAR-10 Batch 2:  loss: 2.0928826332092285, validation: 0.23499999940395355\n",
      "Epoch  4, CIFAR-10 Batch 3:  loss: 1.9855678081512451, validation: 0.2409999966621399\n",
      "Epoch  4, CIFAR-10 Batch 4:  loss: 2.0512492656707764, validation: 0.2298000007867813\n",
      "Epoch  4, CIFAR-10 Batch 5:  loss: 2.0344388484954834, validation: 0.2370000034570694\n",
      "Epoch  5, CIFAR-10 Batch 1:  loss: 2.168120861053467, validation: 0.22380000352859497\n",
      "Epoch  5, CIFAR-10 Batch 2:  loss: 2.043564558029175, validation: 0.2215999960899353\n",
      "Epoch  5, CIFAR-10 Batch 3:  loss: 1.9526180028915405, validation: 0.24819999933242798\n",
      "Epoch  5, CIFAR-10 Batch 4:  loss: 1.9257034063339233, validation: 0.225600004196167\n",
      "Epoch  5, CIFAR-10 Batch 5:  loss: 1.9875777959823608, validation: 0.2264000028371811\n",
      "Epoch  6, CIFAR-10 Batch 1:  loss: 2.124584674835205, validation: 0.24320000410079956\n",
      "Epoch  6, CIFAR-10 Batch 2:  loss: 1.9616889953613281, validation: 0.2295999974012375\n",
      "Epoch  6, CIFAR-10 Batch 3:  loss: 1.8704169988632202, validation: 0.24220000207424164\n",
      "Epoch  6, CIFAR-10 Batch 4:  loss: 1.863386869430542, validation: 0.2540000081062317\n",
      "Epoch  6, CIFAR-10 Batch 5:  loss: 1.9338064193725586, validation: 0.2502000033855438\n",
      "Epoch  7, CIFAR-10 Batch 1:  loss: 2.0741360187530518, validation: 0.25999999046325684\n",
      "Epoch  7, CIFAR-10 Batch 2:  loss: 1.9742587804794312, validation: 0.24719999730587006\n",
      "Epoch  7, CIFAR-10 Batch 3:  loss: 1.8997032642364502, validation: 0.26080000400543213\n",
      "Epoch  7, CIFAR-10 Batch 4:  loss: 1.9180799722671509, validation: 0.25839999318122864\n",
      "Epoch  7, CIFAR-10 Batch 5:  loss: 1.958196997642517, validation: 0.26980000734329224\n",
      "Epoch  8, CIFAR-10 Batch 1:  loss: 2.028143882751465, validation: 0.2897999882698059\n",
      "Epoch  8, CIFAR-10 Batch 2:  loss: 1.9220390319824219, validation: 0.26739999651908875\n",
      "Epoch  8, CIFAR-10 Batch 3:  loss: 1.7599220275878906, validation: 0.3043999969959259\n",
      "Epoch  8, CIFAR-10 Batch 4:  loss: 1.8768341541290283, validation: 0.3001999855041504\n",
      "Epoch  8, CIFAR-10 Batch 5:  loss: 1.8211910724639893, validation: 0.3124000132083893\n",
      "Epoch  9, CIFAR-10 Batch 1:  loss: 1.9621680974960327, validation: 0.30480000376701355\n",
      "Epoch  9, CIFAR-10 Batch 2:  loss: 1.8989307880401611, validation: 0.26260000467300415\n",
      "Epoch  9, CIFAR-10 Batch 3:  loss: 1.7319828271865845, validation: 0.3224000036716461\n",
      "Epoch  9, CIFAR-10 Batch 4:  loss: 1.9118839502334595, validation: 0.31380000710487366\n",
      "Epoch  9, CIFAR-10 Batch 5:  loss: 1.7917686700820923, validation: 0.33160001039505005\n",
      "Epoch 10, CIFAR-10 Batch 1:  loss: 1.9763511419296265, validation: 0.3158000111579895\n",
      "Epoch 10, CIFAR-10 Batch 2:  loss: 1.8587539196014404, validation: 0.28940001130104065\n",
      "Epoch 10, CIFAR-10 Batch 3:  loss: 1.7581809759140015, validation: 0.3375999927520752\n",
      "Epoch 10, CIFAR-10 Batch 4:  loss: 1.8862831592559814, validation: 0.3197999894618988\n",
      "Epoch 10, CIFAR-10 Batch 5:  loss: 1.75016188621521, validation: 0.34459999203681946\n",
      "Epoch 11, CIFAR-10 Batch 1:  loss: 1.9837547540664673, validation: 0.3463999927043915\n",
      "Epoch 11, CIFAR-10 Batch 2:  loss: 1.9209476709365845, validation: 0.3346000015735626\n",
      "Epoch 11, CIFAR-10 Batch 3:  loss: 1.7135738134384155, validation: 0.36579999327659607\n",
      "Epoch 11, CIFAR-10 Batch 4:  loss: 1.8750617504119873, validation: 0.33320000767707825\n",
      "Epoch 11, CIFAR-10 Batch 5:  loss: 1.7294867038726807, validation: 0.3659999966621399\n",
      "Epoch 12, CIFAR-10 Batch 1:  loss: 1.9222910404205322, validation: 0.35280001163482666\n",
      "Epoch 12, CIFAR-10 Batch 2:  loss: 1.8343544006347656, validation: 0.358599990606308\n",
      "Epoch 12, CIFAR-10 Batch 3:  loss: 1.6976312398910522, validation: 0.36880001425743103\n",
      "Epoch 12, CIFAR-10 Batch 4:  loss: 1.7996799945831299, validation: 0.3625999987125397\n",
      "Epoch 12, CIFAR-10 Batch 5:  loss: 1.6847078800201416, validation: 0.3774000108242035\n",
      "Epoch 13, CIFAR-10 Batch 1:  loss: 1.8952792882919312, validation: 0.37040001153945923\n",
      "Epoch 13, CIFAR-10 Batch 2:  loss: 1.775779366493225, validation: 0.37439998984336853\n",
      "Epoch 13, CIFAR-10 Batch 3:  loss: 1.652588129043579, validation: 0.39100000262260437\n",
      "Epoch 13, CIFAR-10 Batch 4:  loss: 1.7605311870574951, validation: 0.37959998846054077\n",
      "Epoch 13, CIFAR-10 Batch 5:  loss: 1.648374319076538, validation: 0.38600000739097595\n",
      "Epoch 14, CIFAR-10 Batch 1:  loss: 1.862563133239746, validation: 0.38119998574256897\n",
      "Epoch 14, CIFAR-10 Batch 2:  loss: 1.7156633138656616, validation: 0.39340001344680786\n",
      "Epoch 14, CIFAR-10 Batch 3:  loss: 1.640207290649414, validation: 0.41679999232292175\n",
      "Epoch 14, CIFAR-10 Batch 4:  loss: 1.7751007080078125, validation: 0.38440001010894775\n",
      "Epoch 14, CIFAR-10 Batch 5:  loss: 1.6479456424713135, validation: 0.4047999978065491\n",
      "Epoch 15, CIFAR-10 Batch 1:  loss: 1.8187118768692017, validation: 0.4058000147342682\n",
      "Epoch 15, CIFAR-10 Batch 2:  loss: 1.7121204137802124, validation: 0.4047999978065491\n",
      "Epoch 15, CIFAR-10 Batch 3:  loss: 1.6096149682998657, validation: 0.4156000018119812\n",
      "Epoch 15, CIFAR-10 Batch 4:  loss: 1.753454566001892, validation: 0.3953999876976013\n",
      "Epoch 15, CIFAR-10 Batch 5:  loss: 1.6265910863876343, validation: 0.42640000581741333\n",
      "Epoch 16, CIFAR-10 Batch 1:  loss: 1.8225457668304443, validation: 0.4205999970436096\n",
      "Epoch 16, CIFAR-10 Batch 2:  loss: 1.7394592761993408, validation: 0.41679999232292175\n",
      "Epoch 16, CIFAR-10 Batch 3:  loss: 1.5840433835983276, validation: 0.4352000057697296\n",
      "Epoch 16, CIFAR-10 Batch 4:  loss: 1.6851871013641357, validation: 0.41819998621940613\n",
      "Epoch 16, CIFAR-10 Batch 5:  loss: 1.6782575845718384, validation: 0.41499999165534973\n",
      "Epoch 17, CIFAR-10 Batch 1:  loss: 1.8102976083755493, validation: 0.426800012588501\n",
      "Epoch 17, CIFAR-10 Batch 2:  loss: 1.7188278436660767, validation: 0.43299999833106995\n",
      "Epoch 17, CIFAR-10 Batch 3:  loss: 1.5445563793182373, validation: 0.4458000063896179\n",
      "Epoch 17, CIFAR-10 Batch 4:  loss: 1.6985304355621338, validation: 0.4487999975681305\n",
      "Epoch 17, CIFAR-10 Batch 5:  loss: 1.6478369235992432, validation: 0.4307999908924103\n",
      "Epoch 18, CIFAR-10 Batch 1:  loss: 1.7557542324066162, validation: 0.4424000084400177\n",
      "Epoch 18, CIFAR-10 Batch 2:  loss: 1.6727430820465088, validation: 0.4474000036716461\n",
      "Epoch 18, CIFAR-10 Batch 3:  loss: 1.4866504669189453, validation: 0.44940000772476196\n",
      "Epoch 18, CIFAR-10 Batch 4:  loss: 1.695152997970581, validation: 0.45579999685287476\n",
      "Epoch 18, CIFAR-10 Batch 5:  loss: 1.5880730152130127, validation: 0.44839999079704285\n",
      "Epoch 19, CIFAR-10 Batch 1:  loss: 1.7146213054656982, validation: 0.44940000772476196\n",
      "Epoch 19, CIFAR-10 Batch 2:  loss: 1.6463199853897095, validation: 0.44999998807907104\n",
      "Epoch 19, CIFAR-10 Batch 3:  loss: 1.465681791305542, validation: 0.45579999685287476\n",
      "Epoch 19, CIFAR-10 Batch 4:  loss: 1.6301422119140625, validation: 0.46000000834465027\n",
      "Epoch 19, CIFAR-10 Batch 5:  loss: 1.5410255193710327, validation: 0.4603999853134155\n",
      "Epoch 20, CIFAR-10 Batch 1:  loss: 1.7072761058807373, validation: 0.4650000035762787\n",
      "Epoch 20, CIFAR-10 Batch 2:  loss: 1.5901333093643188, validation: 0.4674000144004822\n",
      "Epoch 20, CIFAR-10 Batch 3:  loss: 1.4348887205123901, validation: 0.4675999879837036\n",
      "Epoch 20, CIFAR-10 Batch 4:  loss: 1.6799123287200928, validation: 0.4708000123500824\n",
      "Epoch 20, CIFAR-10 Batch 5:  loss: 1.5619280338287354, validation: 0.45500001311302185\n",
      "Epoch 21, CIFAR-10 Batch 1:  loss: 1.6738439798355103, validation: 0.4681999981403351\n",
      "Epoch 21, CIFAR-10 Batch 2:  loss: 1.6001358032226562, validation: 0.4643999934196472\n",
      "Epoch 21, CIFAR-10 Batch 3:  loss: 1.3909627199172974, validation: 0.47920000553131104\n",
      "Epoch 21, CIFAR-10 Batch 4:  loss: 1.6226511001586914, validation: 0.49000000953674316\n",
      "Epoch 21, CIFAR-10 Batch 5:  loss: 1.5514612197875977, validation: 0.47519999742507935\n",
      "Epoch 22, CIFAR-10 Batch 1:  loss: 1.6218303442001343, validation: 0.4763999879360199\n",
      "Epoch 22, CIFAR-10 Batch 2:  loss: 1.5480763912200928, validation: 0.48539999127388\n",
      "Epoch 22, CIFAR-10 Batch 3:  loss: 1.3781975507736206, validation: 0.4885999858379364\n",
      "Epoch 22, CIFAR-10 Batch 4:  loss: 1.6098521947860718, validation: 0.48899999260902405\n",
      "Epoch 22, CIFAR-10 Batch 5:  loss: 1.5002702474594116, validation: 0.4797999858856201\n",
      "Epoch 23, CIFAR-10 Batch 1:  loss: 1.6176084280014038, validation: 0.48980000615119934\n",
      "Epoch 23, CIFAR-10 Batch 2:  loss: 1.5611364841461182, validation: 0.4880000054836273\n",
      "Epoch 23, CIFAR-10 Batch 3:  loss: 1.3815470933914185, validation: 0.49720001220703125\n",
      "Epoch 23, CIFAR-10 Batch 4:  loss: 1.5768787860870361, validation: 0.4936000108718872\n",
      "Epoch 23, CIFAR-10 Batch 5:  loss: 1.5055506229400635, validation: 0.4885999858379364\n",
      "Epoch 24, CIFAR-10 Batch 1:  loss: 1.6204532384872437, validation: 0.49619999527931213\n",
      "Epoch 24, CIFAR-10 Batch 2:  loss: 1.5193661451339722, validation: 0.504800021648407\n",
      "Epoch 24, CIFAR-10 Batch 3:  loss: 1.3263890743255615, validation: 0.5098000168800354\n",
      "Epoch 24, CIFAR-10 Batch 4:  loss: 1.5617927312850952, validation: 0.4991999864578247\n",
      "Epoch 24, CIFAR-10 Batch 5:  loss: 1.4630420207977295, validation: 0.49320000410079956\n",
      "Epoch 25, CIFAR-10 Batch 1:  loss: 1.611203908920288, validation: 0.48980000615119934\n",
      "Epoch 25, CIFAR-10 Batch 2:  loss: 1.5120967626571655, validation: 0.49540001153945923\n",
      "Epoch 25, CIFAR-10 Batch 3:  loss: 1.328810453414917, validation: 0.5131999850273132\n",
      "Epoch 25, CIFAR-10 Batch 4:  loss: 1.5307860374450684, validation: 0.5073999762535095\n",
      "Epoch 25, CIFAR-10 Batch 5:  loss: 1.458984375, validation: 0.4966000020503998\n",
      "Epoch 26, CIFAR-10 Batch 1:  loss: 1.5939377546310425, validation: 0.498199999332428\n",
      "Epoch 26, CIFAR-10 Batch 2:  loss: 1.528164029121399, validation: 0.5067999958992004\n",
      "Epoch 26, CIFAR-10 Batch 3:  loss: 1.3232208490371704, validation: 0.5220000147819519\n",
      "Epoch 26, CIFAR-10 Batch 4:  loss: 1.5107461214065552, validation: 0.5109999775886536\n",
      "Epoch 26, CIFAR-10 Batch 5:  loss: 1.449892282485962, validation: 0.4975999891757965\n",
      "Epoch 27, CIFAR-10 Batch 1:  loss: 1.5445634126663208, validation: 0.4991999864578247\n",
      "Epoch 27, CIFAR-10 Batch 2:  loss: 1.4964648485183716, validation: 0.5116000175476074\n",
      "Epoch 27, CIFAR-10 Batch 3:  loss: 1.3020893335342407, validation: 0.5252000093460083\n",
      "Epoch 27, CIFAR-10 Batch 4:  loss: 1.522705316543579, validation: 0.5264000296592712\n",
      "Epoch 27, CIFAR-10 Batch 5:  loss: 1.4383305311203003, validation: 0.49639999866485596\n",
      "Epoch 28, CIFAR-10 Batch 1:  loss: 1.5453535318374634, validation: 0.5108000040054321\n",
      "Epoch 28, CIFAR-10 Batch 2:  loss: 1.5149199962615967, validation: 0.5062000155448914\n",
      "Epoch 28, CIFAR-10 Batch 3:  loss: 1.3248732089996338, validation: 0.5231999754905701\n",
      "Epoch 28, CIFAR-10 Batch 4:  loss: 1.4975696802139282, validation: 0.5121999979019165\n",
      "Epoch 28, CIFAR-10 Batch 5:  loss: 1.3812663555145264, validation: 0.5058000087738037\n",
      "Epoch 29, CIFAR-10 Batch 1:  loss: 1.5123562812805176, validation: 0.522599995136261\n",
      "Epoch 29, CIFAR-10 Batch 2:  loss: 1.4650681018829346, validation: 0.515999972820282\n",
      "Epoch 29, CIFAR-10 Batch 3:  loss: 1.2925455570220947, validation: 0.5238000154495239\n",
      "Epoch 29, CIFAR-10 Batch 4:  loss: 1.4959200620651245, validation: 0.5188000202178955\n",
      "Epoch 29, CIFAR-10 Batch 5:  loss: 1.3937833309173584, validation: 0.5170000195503235\n",
      "Epoch 30, CIFAR-10 Batch 1:  loss: 1.536029577255249, validation: 0.5174000263214111\n",
      "Epoch 30, CIFAR-10 Batch 2:  loss: 1.4695298671722412, validation: 0.52920001745224\n",
      "Epoch 30, CIFAR-10 Batch 3:  loss: 1.3065986633300781, validation: 0.5288000106811523\n",
      "Epoch 30, CIFAR-10 Batch 4:  loss: 1.4768532514572144, validation: 0.5361999869346619\n",
      "Epoch 30, CIFAR-10 Batch 5:  loss: 1.3709492683410645, validation: 0.517799973487854\n",
      "Epoch 31, CIFAR-10 Batch 1:  loss: 1.4775865077972412, validation: 0.5224000215530396\n",
      "Epoch 31, CIFAR-10 Batch 2:  loss: 1.4526323080062866, validation: 0.525600016117096\n",
      "Epoch 31, CIFAR-10 Batch 3:  loss: 1.249574899673462, validation: 0.5335999727249146\n",
      "Epoch 31, CIFAR-10 Batch 4:  loss: 1.4688743352890015, validation: 0.5235999822616577\n",
      "Epoch 31, CIFAR-10 Batch 5:  loss: 1.3952394723892212, validation: 0.5108000040054321\n",
      "Epoch 32, CIFAR-10 Batch 1:  loss: 1.4721806049346924, validation: 0.525600016117096\n",
      "Epoch 32, CIFAR-10 Batch 2:  loss: 1.4131801128387451, validation: 0.5335999727249146\n",
      "Epoch 32, CIFAR-10 Batch 3:  loss: 1.301226019859314, validation: 0.5350000262260437\n",
      "Epoch 32, CIFAR-10 Batch 4:  loss: 1.4699041843414307, validation: 0.534600019454956\n",
      "Epoch 32, CIFAR-10 Batch 5:  loss: 1.3857944011688232, validation: 0.5163999795913696\n",
      "Epoch 33, CIFAR-10 Batch 1:  loss: 1.4717854261398315, validation: 0.5324000120162964\n",
      "Epoch 33, CIFAR-10 Batch 2:  loss: 1.4245569705963135, validation: 0.5360000133514404\n",
      "Epoch 33, CIFAR-10 Batch 3:  loss: 1.2607430219650269, validation: 0.5401999950408936\n",
      "Epoch 33, CIFAR-10 Batch 4:  loss: 1.4548084735870361, validation: 0.5415999889373779\n",
      "Epoch 33, CIFAR-10 Batch 5:  loss: 1.3997043371200562, validation: 0.5249999761581421\n",
      "Epoch 34, CIFAR-10 Batch 1:  loss: 1.4831215143203735, validation: 0.5238000154495239\n",
      "Epoch 34, CIFAR-10 Batch 2:  loss: 1.3989207744598389, validation: 0.5356000065803528\n",
      "Epoch 34, CIFAR-10 Batch 3:  loss: 1.217803955078125, validation: 0.5389999747276306\n",
      "Epoch 34, CIFAR-10 Batch 4:  loss: 1.4413238763809204, validation: 0.5472000241279602\n",
      "Epoch 34, CIFAR-10 Batch 5:  loss: 1.4027011394500732, validation: 0.5325999855995178\n",
      "Epoch 35, CIFAR-10 Batch 1:  loss: 1.4467296600341797, validation: 0.5397999882698059\n",
      "Epoch 35, CIFAR-10 Batch 2:  loss: 1.3898146152496338, validation: 0.5374000072479248\n",
      "Epoch 35, CIFAR-10 Batch 3:  loss: 1.2419402599334717, validation: 0.5407999753952026\n",
      "Epoch 35, CIFAR-10 Batch 4:  loss: 1.4449630975723267, validation: 0.5396000146865845\n",
      "Epoch 35, CIFAR-10 Batch 5:  loss: 1.3888150453567505, validation: 0.5378000140190125\n",
      "Epoch 36, CIFAR-10 Batch 1:  loss: 1.4308103322982788, validation: 0.5386000275611877\n",
      "Epoch 36, CIFAR-10 Batch 2:  loss: 1.36700439453125, validation: 0.5371999740600586\n",
      "Epoch 36, CIFAR-10 Batch 3:  loss: 1.2414178848266602, validation: 0.5472000241279602\n",
      "Epoch 36, CIFAR-10 Batch 4:  loss: 1.4387290477752686, validation: 0.5544000267982483\n",
      "Epoch 36, CIFAR-10 Batch 5:  loss: 1.3654792308807373, validation: 0.5329999923706055\n",
      "Epoch 37, CIFAR-10 Batch 1:  loss: 1.4431416988372803, validation: 0.5396000146865845\n",
      "Epoch 37, CIFAR-10 Batch 2:  loss: 1.359688401222229, validation: 0.5392000079154968\n",
      "Epoch 37, CIFAR-10 Batch 3:  loss: 1.2449748516082764, validation: 0.5464000105857849\n",
      "Epoch 37, CIFAR-10 Batch 4:  loss: 1.4085073471069336, validation: 0.545799970626831\n",
      "Epoch 37, CIFAR-10 Batch 5:  loss: 1.393500804901123, validation: 0.5347999930381775\n",
      "Epoch 38, CIFAR-10 Batch 1:  loss: 1.425968885421753, validation: 0.5491999983787537\n",
      "Epoch 38, CIFAR-10 Batch 2:  loss: 1.3611427545547485, validation: 0.5504000186920166\n",
      "Epoch 38, CIFAR-10 Batch 3:  loss: 1.2111049890518188, validation: 0.5526000261306763\n",
      "Epoch 38, CIFAR-10 Batch 4:  loss: 1.4054906368255615, validation: 0.5604000091552734\n",
      "Epoch 38, CIFAR-10 Batch 5:  loss: 1.3792154788970947, validation: 0.5407999753952026\n",
      "Epoch 39, CIFAR-10 Batch 1:  loss: 1.410561203956604, validation: 0.5482000112533569\n",
      "Epoch 39, CIFAR-10 Batch 2:  loss: 1.3416248559951782, validation: 0.5460000038146973\n",
      "Epoch 39, CIFAR-10 Batch 3:  loss: 1.2311642169952393, validation: 0.5461999773979187\n",
      "Epoch 39, CIFAR-10 Batch 4:  loss: 1.3921144008636475, validation: 0.5527999997138977\n",
      "Epoch 39, CIFAR-10 Batch 5:  loss: 1.3820884227752686, validation: 0.5455999970436096\n",
      "Epoch 40, CIFAR-10 Batch 1:  loss: 1.387934684753418, validation: 0.551800012588501\n",
      "Epoch 40, CIFAR-10 Batch 2:  loss: 1.3116636276245117, validation: 0.550599992275238\n",
      "Epoch 40, CIFAR-10 Batch 3:  loss: 1.20925772190094, validation: 0.5564000010490417\n",
      "Epoch 40, CIFAR-10 Batch 4:  loss: 1.3945753574371338, validation: 0.5533999800682068\n",
      "Epoch 40, CIFAR-10 Batch 5:  loss: 1.3884176015853882, validation: 0.5382000207901001\n",
      "Epoch 41, CIFAR-10 Batch 1:  loss: 1.3626426458358765, validation: 0.5501999855041504\n",
      "Epoch 41, CIFAR-10 Batch 2:  loss: 1.3409545421600342, validation: 0.5515999794006348\n",
      "Epoch 41, CIFAR-10 Batch 3:  loss: 1.2125226259231567, validation: 0.5598000288009644\n",
      "Epoch 41, CIFAR-10 Batch 4:  loss: 1.3978620767593384, validation: 0.5586000084877014\n",
      "Epoch 41, CIFAR-10 Batch 5:  loss: 1.3392680883407593, validation: 0.5533999800682068\n",
      "Epoch 42, CIFAR-10 Batch 1:  loss: 1.385082483291626, validation: 0.5508000254631042\n",
      "Epoch 42, CIFAR-10 Batch 2:  loss: 1.302704930305481, validation: 0.5541999936103821\n",
      "Epoch 42, CIFAR-10 Batch 3:  loss: 1.2137664556503296, validation: 0.5605999827384949\n",
      "Epoch 42, CIFAR-10 Batch 4:  loss: 1.3623398542404175, validation: 0.5627999901771545\n",
      "Epoch 42, CIFAR-10 Batch 5:  loss: 1.3677048683166504, validation: 0.5454000234603882\n",
      "Epoch 43, CIFAR-10 Batch 1:  loss: 1.3720064163208008, validation: 0.553600013256073\n",
      "Epoch 43, CIFAR-10 Batch 2:  loss: 1.3338669538497925, validation: 0.5493999719619751\n",
      "Epoch 43, CIFAR-10 Batch 3:  loss: 1.2199287414550781, validation: 0.5532000064849854\n",
      "Epoch 43, CIFAR-10 Batch 4:  loss: 1.3825353384017944, validation: 0.5703999996185303\n",
      "Epoch 43, CIFAR-10 Batch 5:  loss: 1.3230369091033936, validation: 0.5493999719619751\n",
      "Epoch 44, CIFAR-10 Batch 1:  loss: 1.3682584762573242, validation: 0.5622000098228455\n",
      "Epoch 44, CIFAR-10 Batch 2:  loss: 1.3274385929107666, validation: 0.5497999787330627\n",
      "Epoch 44, CIFAR-10 Batch 3:  loss: 1.2032201290130615, validation: 0.5669999718666077\n",
      "Epoch 44, CIFAR-10 Batch 4:  loss: 1.3787821531295776, validation: 0.5641999840736389\n",
      "Epoch 44, CIFAR-10 Batch 5:  loss: 1.3353180885314941, validation: 0.5541999936103821\n",
      "Epoch 45, CIFAR-10 Batch 1:  loss: 1.3625881671905518, validation: 0.5591999888420105\n",
      "Epoch 45, CIFAR-10 Batch 2:  loss: 1.30745530128479, validation: 0.5562000274658203\n",
      "Epoch 45, CIFAR-10 Batch 3:  loss: 1.1840946674346924, validation: 0.5702000260353088\n",
      "Epoch 45, CIFAR-10 Batch 4:  loss: 1.3719154596328735, validation: 0.5644000172615051\n",
      "Epoch 45, CIFAR-10 Batch 5:  loss: 1.3615906238555908, validation: 0.5496000051498413\n",
      "Epoch 46, CIFAR-10 Batch 1:  loss: 1.3096306324005127, validation: 0.567799985408783\n",
      "Epoch 46, CIFAR-10 Batch 2:  loss: 1.319521188735962, validation: 0.5612000226974487\n",
      "Epoch 46, CIFAR-10 Batch 3:  loss: 1.2063566446304321, validation: 0.5680000185966492\n",
      "Epoch 46, CIFAR-10 Batch 4:  loss: 1.3857691287994385, validation: 0.5726000070571899\n",
      "Epoch 46, CIFAR-10 Batch 5:  loss: 1.333041787147522, validation: 0.5613999962806702\n",
      "Epoch 47, CIFAR-10 Batch 1:  loss: 1.335651159286499, validation: 0.5595999956130981\n",
      "Epoch 47, CIFAR-10 Batch 2:  loss: 1.292872667312622, validation: 0.5608000159263611\n",
      "Epoch 47, CIFAR-10 Batch 3:  loss: 1.2344900369644165, validation: 0.5662000179290771\n",
      "Epoch 47, CIFAR-10 Batch 4:  loss: 1.3509010076522827, validation: 0.5735999941825867\n",
      "Epoch 47, CIFAR-10 Batch 5:  loss: 1.3109912872314453, validation: 0.5631999969482422\n",
      "Epoch 48, CIFAR-10 Batch 1:  loss: 1.3028972148895264, validation: 0.5667999982833862\n",
      "Epoch 48, CIFAR-10 Batch 2:  loss: 1.2914941310882568, validation: 0.5630000233650208\n",
      "Epoch 48, CIFAR-10 Batch 3:  loss: 1.2173676490783691, validation: 0.5644000172615051\n",
      "Epoch 48, CIFAR-10 Batch 4:  loss: 1.3609532117843628, validation: 0.5708000063896179\n",
      "Epoch 48, CIFAR-10 Batch 5:  loss: 1.3282541036605835, validation: 0.5582000017166138\n",
      "Epoch 49, CIFAR-10 Batch 1:  loss: 1.3316864967346191, validation: 0.5612000226974487\n",
      "Epoch 49, CIFAR-10 Batch 2:  loss: 1.2873659133911133, validation: 0.5619999766349792\n",
      "Epoch 49, CIFAR-10 Batch 3:  loss: 1.1938658952713013, validation: 0.5745999813079834\n",
      "Epoch 49, CIFAR-10 Batch 4:  loss: 1.3342783451080322, validation: 0.5722000002861023\n",
      "Epoch 49, CIFAR-10 Batch 5:  loss: 1.3034517765045166, validation: 0.5544000267982483\n",
      "Epoch 50, CIFAR-10 Batch 1:  loss: 1.3061158657073975, validation: 0.5712000131607056\n",
      "Epoch 50, CIFAR-10 Batch 2:  loss: 1.3105548620224, validation: 0.5645999908447266\n",
      "Epoch 50, CIFAR-10 Batch 3:  loss: 1.191061019897461, validation: 0.5799999833106995\n",
      "Epoch 50, CIFAR-10 Batch 4:  loss: 1.364619493484497, validation: 0.5726000070571899\n",
      "Epoch 50, CIFAR-10 Batch 5:  loss: 1.3120888471603394, validation: 0.5580000281333923\n"
     ]
    }
   ],
   "source": [
    "\"\"\"\n",
    "DON'T MODIFY ANYTHING IN THIS CELL\n",
    "\"\"\"\n",
    "save_model_path = './image_classification'\n",
    "\n",
    "print('Training...')\n",
    "with tf.Session() as sess:\n",
    "    # Initializing the variables\n",
    "    sess.run(tf.global_variables_initializer())\n",
    "    \n",
    "    # Training cycle\n",
    "    for epoch in range(epochs):\n",
    "        # Loop over all batches\n",
    "        n_batches = 5\n",
    "        for batch_i in range(1, n_batches + 1):\n",
    "            for batch_features, batch_labels in helper.load_preprocess_training_batch(batch_i, batch_size):\n",
    "                train_neural_network(sess, optimizer, keep_probability, batch_features, batch_labels)\n",
    "            print('Epoch {:>2}, CIFAR-10 Batch {}:  '.format(epoch + 1, batch_i), end='')\n",
    "            print_stats(sess, batch_features, batch_labels, cost, accuracy)\n",
    "            \n",
    "    # Save Model\n",
    "    saver = tf.train.Saver()\n",
    "    save_path = saver.save(sess, save_model_path)"
   ]
  },
  {
   "cell_type": "markdown",
   "metadata": {
    "deletable": true,
    "editable": true
   },
   "source": [
    "# Checkpoint\n",
    "The model has been saved to disk.\n",
    "## Test Model\n",
    "Test your model against the test dataset.  This will be your final accuracy. You should have an accuracy greater than 50%. If you don't, keep tweaking the model architecture and parameters."
   ]
  },
  {
   "cell_type": "code",
   "execution_count": 20,
   "metadata": {
    "collapsed": false,
    "deletable": true,
    "editable": true
   },
   "outputs": [
    {
     "name": "stdout",
     "output_type": "stream",
     "text": [
      "Testing Accuracy: 0.5590167197452229\n",
      "\n"
     ]
    },
    {
     "data": {
      "image/png": "[encoded data removed]",
      "text/plain": [
       "<matplotlib.figure.Figure at 0x115550588>"
      ]
     },
     "metadata": {
      "image/png": {
       "height": 319,
       "width": 355
      }
     },
     "output_type": "display_data"
    }
   ],
   "source": [
    "\"\"\"\n",
    "DON'T MODIFY ANYTHING IN THIS CELL\n",
    "\"\"\"\n",
    "%matplotlib inline\n",
    "%config InlineBackend.figure_format = 'retina'\n",
    "\n",
    "import tensorflow as tf\n",
    "import pickle\n",
    "import helper\n",
    "import random\n",
    "\n",
    "# Set batch size if not already set\n",
    "try:\n",
    "    if batch_size:\n",
    "        pass\n",
    "except NameError:\n",
    "    batch_size = 64\n",
    "\n",
    "save_model_path = './image_classification'\n",
    "n_samples = 4\n",
    "top_n_predictions = 3\n",
    "\n",
    "def test_model():\n",
    "    \"\"\"\n",
    "    Test the saved model against the test dataset\n",
    "    \"\"\"\n",
    "\n",
    "    test_features, test_labels = pickle.load(open('preprocess_training.p', mode='rb'))\n",
    "    loaded_graph = tf.Graph()\n",
    "\n",
    "    with tf.Session(graph=loaded_graph) as sess:\n",
    "        # Load model\n",
    "        loader = tf.train.import_meta_graph(save_model_path + '.meta')\n",
    "        loader.restore(sess, save_model_path)\n",
    "\n",
    "        # Get Tensors from loaded model\n",
    "        loaded_x = loaded_graph.get_tensor_by_name('x:0')\n",
    "        loaded_y = loaded_graph.get_tensor_by_name('y:0')\n",
    "        loaded_keep_prob = loaded_graph.get_tensor_by_name('keep_prob:0')\n",
    "        loaded_logits = loaded_graph.get_tensor_by_name('logits:0')\n",
    "        loaded_acc = loaded_graph.get_tensor_by_name('accuracy:0')\n",
    "        \n",
    "        # Get accuracy in batches for memory limitations\n",
    "        test_batch_acc_total = 0\n",
    "        test_batch_count = 0\n",
    "        \n",
    "        for train_feature_batch, train_label_batch in helper.batch_features_labels(test_features, test_labels, batch_size):\n",
    "            test_batch_acc_total += sess.run(\n",
    "                loaded_acc,\n",
    "                feed_dict={loaded_x: train_feature_batch, loaded_y: train_label_batch, loaded_keep_prob: 1.0})\n",
    "            test_batch_count += 1\n",
    "\n",
    "        print('Testing Accuracy: {}\\n'.format(test_batch_acc_total/test_batch_count))\n",
    "\n",
    "        # Print Random Samples\n",
    "        random_test_features, random_test_labels = tuple(zip(*random.sample(list(zip(test_features, test_labels)), n_samples)))\n",
    "        random_test_predictions = sess.run(\n",
    "            tf.nn.top_k(tf.nn.softmax(loaded_logits), top_n_predictions),\n",
    "            feed_dict={loaded_x: random_test_features, loaded_y: random_test_labels, loaded_keep_prob: 1.0})\n",
    "        helper.display_image_predictions(random_test_features, random_test_labels, random_test_predictions)\n",
    "\n",
    "\n",
    "test_model()"
   ]
  },
  {
   "cell_type": "markdown",
   "metadata": {
    "deletable": true,
    "editable": true
   },
   "source": [
    "## Why 50-80% Accuracy?\n",
    "You might be wondering why you can't get an accuracy any higher. First things first, 50% isn't bad for a simple CNN.  Pure guessing would get you 10% accuracy. That's because there are many more techniques that can be applied to your model and we recemmond that once you are done with this project, you explore!\n",
    "\n",
    "## Submitting This Project\n",
    "When submitting this project, make sure to run all the cells before saving the notebook.  Save the notebook file as \"image_classification.ipynb\" and save it as a HTML file under \"File\" -> \"Download as\".  Include the \"helper.py\" and \"problem_unittests.py\" files in your submission."
   ]
  }
 ],
 "metadata": {
  "anaconda-cloud": {},
  "kernelspec": {
   "display_name": "Python 3",
   "language": "python",
   "name": "python3"
  },
  "language_info": {
   "codemirror_mode": {
    "name": "ipython",
    "version": 3
   },
   "file_extension": ".py",
   "mimetype": "text/x-python",
   "name": "python",
   "nbconvert_exporter": "python",
   "pygments_lexer": "ipython3",
   "version": "3.5.3"
  }
 },
 "nbformat": 4,
 "nbformat_minor": 0
}
